{
 "cells": [
  {
   "cell_type": "code",
   "execution_count": 2,
   "id": "5d25f9ee-f033-4345-9c99-0aeb139beb95",
   "metadata": {},
   "outputs": [],
   "source": [
    "import numpy as np\n",
    "import requests\n",
    "import pandas as pd\n",
    "import time\n",
    "import re\n",
    "import string\n",
    "import nltk\n",
    "import seaborn as sns\n",
    "from nltk.stem import WordNetLemmatizer\n",
    "from nltk.sentiment.vader import SentimentIntensityAnalyzer\n",
    "from sklearn.feature_extraction.text import TfidfVectorizer"
   ]
  },
  {
   "cell_type": "markdown",
   "id": "ffd2bd37-2d40-49b1-af90-7b487ce3d84a",
   "metadata": {
    "tags": []
   },
   "source": [
    "# The problem statement\n",
    "Modern investing was reinvented last year when a few unknown _civilian_ investors became millionaires and sharing their ideas with the world on the social media platform Reddit. Since then, the subreddit that was made famous has become a bloated and cartoonish version of its former self (which wasn't that great to begin with). \n",
    "\n",
    "The problem therefore is, if you, an individual investor (read: non-professional), are looking for your next investment idea or thesis by reading investment news on reddit, you should have guideline as to the provenance of that newsbite. \n",
    "\n",
    "This model will attempt to distinguish if a post has come from r/WallStreetBets _(WSB)_, where snake oil and otherwise imprudent investment ideas lurk in the shadow. OR the post comes from a more (or less) sober subreddit r/stocks _(STK)_.\n",
    "I will use a machine learning to process the text using Natural Language Processing techniques to convert the text into something a predictive model can understand. After that I hope to be able to present our algorithm new text streams and have the algorithm determine where it came from.  \n",
    "\n",
    "This can be useful to help investors determine if further diligence on an idea is worth the time and energy or not. There is no shortage of stories of copy-cat investors that lost everything during this mini gold rush. \n",
    "\n"
   ]
  },
  {
   "cell_type": "markdown",
   "id": "b27052cf-f531-46ae-9612-4e531f1d3ec0",
   "metadata": {},
   "source": [
    "The notebook and project has the following structure:\n",
    "Notebook:\n",
    "1. Data collection, Cleaning, and EDA.\n",
    "2. Modeling/Model Tuning. \n",
    "3. Predictions. "
   ]
  },
  {
   "cell_type": "markdown",
   "id": "d6020e03-1b22-482b-a246-9bfcc3fc5a56",
   "metadata": {
    "tags": []
   },
   "source": [
    "## Functions. \n",
    "In this section I will take in data from Reddit via the pushshift.io api. \n",
    "\n",
    "In the following three cells I define the functions that will call to pushshift api and pull data from our target subreddits; r/wallstreetbets and r/stocks.\n",
    "\n",
    "`get_data_now` is a function that acts as our main calling function. Our initial arguments passed to the api are the subreddit titles and the size of each subreddit pull request. This function will return a completed dataframe conforming to the size requested. \n",
    "\n",
    "`assembler` is a function that is used by the `get_data_now` function and by the third function `backfill` to put together a dataframe created from a list of dictionaries passed to it. Once the dataframe is created a few _regular expressions_ and _lambda functions_ are applied to it that operate as a prescrubbing. \n",
    "\n",
    "The _prescrubbing_is done to parse over the `title` and `selftext` columns of the resulting dataframe. Part of my requirement to answer the problem statement is to only train and test on rows that contain data from these subreddits so I can have hopefully a model that generalizes to more entries that may not have the `selftext` component. \n",
    "\n",
    "`backfill` This function will operate as a recursive function that will resolve imbalences between the size requested and the actual pre-scrubbed size of the resulting dataframe. \n",
    "\n",
    "`get_contractions` is a function made to expand on contractions used in social media posts. should help our lemmatizer do an accurate job at getting the words out. "
   ]
  },
  {
   "cell_type": "code",
   "execution_count": 4,
   "id": "77f49abb-0dd4-49b0-9a59-0d2f2c1fcb1e",
   "metadata": {
    "tags": []
   },
   "outputs": [],
   "source": [
    "def get_data_now(sub1, sub2, size):\n",
    "    '''\n",
    "    This function accepts two strings as arguments and uses these strings as parameters to retrieve text from Reddit and returns a dataframe. \n",
    "    '''\n",
    "    url = 'https://api.pushshift.io/reddit/search/submission'\n",
    "    \n",
    "    # innit counters\n",
    "    counter = 0\n",
    "    nan_deficit = 0 #updates and passed back from assembler function, number to be added back to size. \n",
    "    master = []\n",
    "    size1 = size\n",
    "    size2 = size\n",
    "    timer = time.sleep(3)\n",
    "    \n",
    "    #sub1 collection#\n",
    "    #first call to api \n",
    "    \n",
    "    params = {'subreddit': sub1,'size': 100, 'fields' : ['subreddit', 'title', 'selftext', 'created_utc']}\n",
    "    res = requests.get(url, params)\n",
    "    posts = res.json()['data']\n",
    "    size1 -= 100\n",
    "    print(f'Starting sub r-{sub1} api calls for {size} rows.')\n",
    "    for i in posts:\n",
    "        master.append(i)\n",
    "\n",
    "    \n",
    "    # size calculations determines batch numbers. \n",
    "    size_fl = size1 // 100 #number of times to fetch 100 entries.\n",
    "    size_mod = size1%100     #remaining number of entries to be fetched.     \n",
    "    \n",
    "    \n",
    "    #batch calls to api\n",
    "    for i in range(0, size_fl):\n",
    "        \n",
    "        params_batch = {'subreddit': sub1, 'size': 100, 'fields' : ['subreddit', 'title', 'selftext', 'created_utc'], 'before' : master[-1]['created_utc']}\n",
    "        res_batch = requests.get(url, params_batch)\n",
    "        posts_batch = res_batch.json()['data']\n",
    "        for i in posts_batch:\n",
    "            master.append(i)\n",
    "        #manners!\n",
    "        time.sleep(2)\n",
    "    if size_mod > 0:\n",
    "        params_batch = {'subreddit': sub1, 'size': size_mod, 'fields' : ['subreddit', 'title', 'selftext', 'created_utc'], 'before' : master[-1]['created_utc']}\n",
    "        res_batch = requests.get(url, params_batch)\n",
    "        posts_batch = res_batch.json()['data']\n",
    "        for i in posts_batch:\n",
    "            master.append(i)\n",
    "    \n",
    "    df_out1 = assembler(master)\n",
    "    \n",
    "    #fill empty rows\n",
    "    if len(df_out1) != size:\n",
    "        time.sleep(2)\n",
    "        timez = master[-1]['created_utc']\n",
    "        size_to_fill= size - len(df_out1)\n",
    "        df_new = backfill(sub1, size_to_fill,timez)\n",
    "    \n",
    "    #appends backfilled df's\n",
    "    df_out1 = df_out1.append(df_new, ignore_index = True)\n",
    "    print(f'End of collection for sub r-{sub1}')    \n",
    "    ##end sub1 collection\n",
    "    \n",
    "    \n",
    "    ##sub2 collection\n",
    "    \n",
    "    master2 = []\n",
    "    #first call to api \n",
    "    params = {'subreddit': sub2,'size': 100, 'fields' : ['subreddit', 'title', 'selftext', 'created_utc']}\n",
    "    res = requests.get(url, params)\n",
    "    posts = res.json()['data']\n",
    "    size2 -= 100\n",
    "    print(f'Starting sub r-{sub2} api calls for {size} rows.')\n",
    "    for i in posts:\n",
    "        master2.append(i)\n",
    "    \n",
    "    # size calculations determines batch numbers. \n",
    "    size_fl2 = size2 // 100 #number of times to fetch 100 entries.\n",
    "    size_mod2 = size2%100     #remaining number of entries to be fetched.     \n",
    "\n",
    "    \n",
    "    #batch calls to api\n",
    "    for i in range(0, size_fl2):\n",
    "        params_batch = {'subreddit': sub2, 'size': 100, 'fields' : ['subreddit', 'title', 'selftext', 'created_utc'], 'before' : master2[-1]['created_utc']}\n",
    "        res_batch = requests.get(url, params_batch)\n",
    "        posts_batch = res_batch.json()['data']\n",
    "        for i in posts_batch:\n",
    "            master2.append(i)\n",
    "        #manners!!\n",
    "        time.sleep(2)\n",
    "    \n",
    "    #assemble the dataframe, preprocess sub2, use recursion to fill empties. \n",
    "    df_out2 = assembler(master2)\n",
    "    \n",
    "    if len(df_out2) != size2:\n",
    "        time.sleep(2)\n",
    "        timez = master2[-1]['created_utc']\n",
    "        size_to_fill= size - len(df_out2)\n",
    "        df_new2 = backfill(sub2, size_to_fill,timez)\n",
    "    \n",
    "    #appends backfilled df's\n",
    "    df_out2 = df_out2.append(df_new2, ignore_index = True)\n",
    "    \n",
    "    #append both df1 and df2\n",
    "    df_out_3 = df_out1.append(df_out2, ignore_index = True)\n",
    "    print(f'End of collection for sub r-{sub2}')\n",
    "    print('Data collection is completed.')\n",
    "     # #selftext is a description. , subreddit is y.\n",
    "    return df_out_3"
   ]
  },
  {
   "cell_type": "code",
   "execution_count": 5,
   "id": "49de3573-2f7a-4dd4-93ce-b33a3f5164e4",
   "metadata": {
    "tags": []
   },
   "outputs": [],
   "source": [
    "def assembler(master):\n",
    "    '''\n",
    "    Accepts list of dictionaries from get data to construct dataframe and process preliminary clean. \n",
    "    passes dataframe back to caller.\n",
    "    '''\n",
    "    #assembles a dataframe\n",
    "    df = pd.DataFrame(master)[['subreddit', 'title', 'selftext', 'created_utc']]\n",
    "    \n",
    "    \n",
    "    #cleans selftext and titles to avoid having web addresses and other strange reddit post noise.\n",
    "    #This prepares the dataset for tokenization and further pipeline. \n",
    "    df['selftext'] = df['selftext'].replace('http\\S+', '', regex=True).replace('www\\S+', '', regex=True).replace('\\n\\n\\S+', '', regex=True).replace('\\[', '', regex=True).replace('\\n|S+', '', regex = True).replace('\\\\|S+', '', regex = True).replace('/n|S+', '', regex = True).replace('/|S+', '', regex = True).replace(\"[\\n\\r]+\", \"\", regex = True)\n",
    "    df['title'] = df['title'].replace('http\\S+', '', regex=True).replace('www\\S+', '', regex=True).replace('\\n\\n\\S+', '', regex=True).replace('\\[', '', regex=True).replace('\\n|S+', '', regex = True).replace('\\\\|S+', '', regex = True).replace('/n|S+', '', regex = True).replace('/|S+', '', regex = True).replace(\"[\\n\\r]+\", \"\", regex = True)\n",
    "    \n",
    "    #removes digits\n",
    "    df['selftext'] = df['selftext'].replace('\\w*\\d\\w*','', regex=True)\n",
    "    df['title'] = df['title'].replace('\\w*\\d\\w*','', regex = True)\n",
    "    \n",
    "    #removes punctuation. \n",
    "    df['selftext'] = df['selftext'].replace('[%s]' % re.escape(string.punctuation), '', regex = True)\n",
    "    df['title'] = df['title'].replace('[%s]' % re.escape(string.punctuation), '', regex = True)\n",
    "\n",
    "    \n",
    "    #the following applies np.nan transformations to easily remove nan data.\n",
    "    df['selftext'] = df['selftext'].apply(lambda x: np.nan if x == '' else x)\n",
    "    df['title'] = df['title'].apply(lambda x: np.nan if x == '' else x)\n",
    "    df['selftext'] = df['selftext'].apply(lambda x: np.nan if x == '[removed]' else x)\n",
    "    df['selftext'] = df['selftext'].apply(lambda x: np.nan if x == 'removed]' else x)\n",
    "    df['selftext'] = df['selftext'].apply(lambda x: np.nan if x == 'removed' else x)\n",
    "    df['selftext'] = df['selftext'].apply(lambda x: np.nan if x == '[deleted]' else x)\n",
    "    df['selftext'] = df['selftext'].apply(lambda x: np.nan if x == 'deleted]' else x)\n",
    "    df['selftext'] = df['selftext'].apply(lambda x: np.nan if x == 'deleted' else x)\n",
    "    \n",
    "    df = df.dropna() # drop NaN's from set. \n",
    "    \n",
    "    #transforms to lower case text\n",
    "    df['selftext'] = df['selftext'].apply(lambda x: x.lower())\n",
    "    df['title'] = df['title'].apply(lambda x: x.lower())\n",
    "    \n",
    "    \n",
    "    \n",
    "    \n",
    "    #print(f'the size of the df after drop is {len(df)}') #statement used in testing is off for production.\n",
    "    \n",
    "    return df"
   ]
  },
  {
   "cell_type": "code",
   "execution_count": 6,
   "id": "6a9b2a21-6dd1-463b-81b7-d1b668494ada",
   "metadata": {
    "tags": []
   },
   "outputs": [],
   "source": [
    "def backfill(sub, size, filltime):\n",
    "    '''\n",
    "    accepts three parameters, sub for subreddit to be filled, size for size to be filled by api, time the last time called by the calling function.\n",
    "    '''\n",
    "    url = 'https://api.pushshift.io/reddit/search/submission'\n",
    "    \n",
    "    \n",
    "    print(f'new backfill call to fill {size} empty cells for sub {sub}') #statement used in testing is off for production.\n",
    "    \n",
    "    #intiialize list#\n",
    "    to_fill_master = []\n",
    "    timer = time.sleep(2)\n",
    "    size_remaining = size\n",
    "    \n",
    "    #initialize variables for size#\n",
    "    if size_remaining < 100:\n",
    "        params = {'subreddit': sub,'size': size_remaining, 'fields' : ['subreddit', 'title', 'selftext', 'created_utc'], 'before' : filltime}\n",
    "        res = requests.get(url, params)\n",
    "        \n",
    "        #print(f'Less than 100 called to API, response {res.status_code}')#statement used in testing is off for production.\n",
    "        \n",
    "        posts = res.json()['data']\n",
    "        for i in posts:\n",
    "            to_fill_master.append(i)\n",
    "        df_a1 = assembler(to_fill_master)\n",
    "        if len(df_a1) != size:\n",
    "            time.sleep(2)\n",
    "            timez = to_fill_master[-1]['created_utc']\n",
    "            size_to_fill= size - len(df_a1)\n",
    "            df_new = backfill(sub, size_to_fill,timez)\n",
    "            df_a1 = df_a1.append(df_new, ignore_index = True)\n",
    "        return df_a1\n",
    "        #else:\n",
    "         #   return df_a1\n",
    "        \n",
    "    if size > 100:\n",
    "        #first call\n",
    "        params = {'subreddit': sub,'size': 100, 'fields' : ['subreddit', 'title', 'selftext', 'created_utc'], 'before' : filltime}\n",
    "        res = requests.get(url, params)\n",
    "        \n",
    "        #print(f'100 first call results called to API, response {res.status_code}') #statement used in testing is off for production.\n",
    "        \n",
    "        posts = res.json()['data']\n",
    "        size_remaining -= 100\n",
    "        for i in posts:\n",
    "            to_fill_master.append(i)\n",
    "        time.sleep(2)\n",
    "\n",
    "        \n",
    "        size_fl = size_remaining // 100 \n",
    "        size_mod = size_remaining%100\n",
    "         #first floor, then modulus#\n",
    "        for i in range(0, size_fl):\n",
    "            #run for size = 100 n-times. \n",
    "            params_batch = {'subreddit': sub, 'size': 100, 'fields' : ['subreddit', 'title', 'selftext', 'created_utc'], 'before' : to_fill_master[-1]['created_utc']}\n",
    "            res_batch = requests.get(url, params_batch)\n",
    "            \n",
    "            #print(f'100 floor results called to API, response {res_batch.status_code}')#statement used in testing is off for production.\n",
    "            \n",
    "            posts_batch = res_batch.json()['data']\n",
    "            for i in posts_batch:\n",
    "                to_fill_master.append(i)\n",
    "            #manners!\n",
    "            time.sleep(2)\n",
    "        \n",
    "        if size_mod > 0:\n",
    "            params_batch = {'subreddit': sub, 'size': size_mod, 'fields' : ['subreddit', 'title', 'selftext', 'created_utc'], 'before' : to_fill_master[-1]['created_utc']}\n",
    "            res_batch = requests.get(url, params_batch)\n",
    "            \n",
    "            #print(f'Modulo size {size_mod} results called to API, response {res_batch.status_code}')#statement used in testing is off for production.\n",
    "            \n",
    "            posts_batch = res_batch.json()['data']\n",
    "            for i in posts_batch:\n",
    "                to_fill_master.append(i)\n",
    "        \n",
    "        df_a2 = assembler(to_fill_master)\n",
    "        \n",
    "        if len(df_a2) != size:\n",
    "            timez = to_fill_master[-1]['created_utc']\n",
    "            size_to_fill= size - len(df_a2)\n",
    "            df_new2 = backfill(sub, size_to_fill,timez)\n",
    "            df_a2 = df_a2.append(df_new2, ignore_index = True)\n",
    "        return df_a2\n",
    "        #else:\n",
    "         #   return df_a2"
   ]
  },
  {
   "cell_type": "markdown",
   "id": "97d90007-e52a-4814-b747-2fe82eae733a",
   "metadata": {
    "tags": []
   },
   "source": [
    "# Calling API and receiving data\n",
    "---\n",
    "Here we will call the `get_data_now` function and pass our two target subreddits `r/wallstreetbets` and `r/stocks`. We will fetch 25,000 rows of each subreddit before our EDA process.  "
   ]
  },
  {
   "cell_type": "code",
   "execution_count": 6,
   "id": "ef83c7cb-26f2-4acf-8b8d-e4d8afd9d925",
   "metadata": {
    "tags": []
   },
   "outputs": [
    {
     "name": "stdout",
     "output_type": "stream",
     "text": [
      "Starting sub r-wallstreetbets api calls for 25000 rows.\n",
      "new backfill call to fill 19414 empty cells for sub wallstreetbets\n",
      "new backfill call to fill 14957 empty cells for sub wallstreetbets\n",
      "new backfill call to fill 10957 empty cells for sub wallstreetbets\n",
      "new backfill call to fill 8253 empty cells for sub wallstreetbets\n",
      "new backfill call to fill 5936 empty cells for sub wallstreetbets\n",
      "new backfill call to fill 4308 empty cells for sub wallstreetbets\n",
      "new backfill call to fill 3170 empty cells for sub wallstreetbets\n",
      "new backfill call to fill 2366 empty cells for sub wallstreetbets\n",
      "new backfill call to fill 1761 empty cells for sub wallstreetbets\n",
      "new backfill call to fill 1305 empty cells for sub wallstreetbets\n",
      "new backfill call to fill 944 empty cells for sub wallstreetbets\n",
      "new backfill call to fill 701 empty cells for sub wallstreetbets\n",
      "new backfill call to fill 518 empty cells for sub wallstreetbets\n",
      "new backfill call to fill 365 empty cells for sub wallstreetbets\n",
      "new backfill call to fill 266 empty cells for sub wallstreetbets\n",
      "new backfill call to fill 197 empty cells for sub wallstreetbets\n",
      "new backfill call to fill 165 empty cells for sub wallstreetbets\n",
      "new backfill call to fill 122 empty cells for sub wallstreetbets\n",
      "new backfill call to fill 87 empty cells for sub wallstreetbets\n",
      "new backfill call to fill 65 empty cells for sub wallstreetbets\n",
      "new backfill call to fill 50 empty cells for sub wallstreetbets\n",
      "new backfill call to fill 39 empty cells for sub wallstreetbets\n",
      "new backfill call to fill 31 empty cells for sub wallstreetbets\n",
      "new backfill call to fill 21 empty cells for sub wallstreetbets\n",
      "new backfill call to fill 17 empty cells for sub wallstreetbets\n",
      "new backfill call to fill 14 empty cells for sub wallstreetbets\n",
      "new backfill call to fill 9 empty cells for sub wallstreetbets\n",
      "new backfill call to fill 6 empty cells for sub wallstreetbets\n",
      "new backfill call to fill 4 empty cells for sub wallstreetbets\n",
      "new backfill call to fill 3 empty cells for sub wallstreetbets\n",
      "new backfill call to fill 2 empty cells for sub wallstreetbets\n",
      "new backfill call to fill 1 empty cells for sub wallstreetbets\n",
      "new backfill call to fill 1 empty cells for sub wallstreetbets\n",
      "new backfill call to fill 1 empty cells for sub wallstreetbets\n",
      "new backfill call to fill 1 empty cells for sub wallstreetbets\n",
      "new backfill call to fill 1 empty cells for sub wallstreetbets\n",
      "new backfill call to fill 1 empty cells for sub wallstreetbets\n",
      "new backfill call to fill 1 empty cells for sub wallstreetbets\n",
      "new backfill call to fill 1 empty cells for sub wallstreetbets\n",
      "new backfill call to fill 1 empty cells for sub wallstreetbets\n",
      "new backfill call to fill 1 empty cells for sub wallstreetbets\n",
      "End of collection for sub r-wallstreetbets\n",
      "Starting sub r-stocks api calls for 25000 rows.\n",
      "new backfill call to fill 16153 empty cells for sub stocks\n",
      "new backfill call to fill 10886 empty cells for sub stocks\n",
      "new backfill call to fill 7774 empty cells for sub stocks\n",
      "new backfill call to fill 6128 empty cells for sub stocks\n",
      "new backfill call to fill 5290 empty cells for sub stocks\n",
      "new backfill call to fill 4900 empty cells for sub stocks\n",
      "new backfill call to fill 2822 empty cells for sub stocks\n",
      "new backfill call to fill 1483 empty cells for sub stocks\n",
      "new backfill call to fill 765 empty cells for sub stocks\n",
      "new backfill call to fill 406 empty cells for sub stocks\n",
      "new backfill call to fill 191 empty cells for sub stocks\n",
      "new backfill call to fill 92 empty cells for sub stocks\n",
      "new backfill call to fill 47 empty cells for sub stocks\n",
      "new backfill call to fill 20 empty cells for sub stocks\n",
      "new backfill call to fill 7 empty cells for sub stocks\n",
      "new backfill call to fill 1 empty cells for sub stocks\n",
      "new backfill call to fill 1 empty cells for sub stocks\n",
      "End of collection for sub r-stocks\n",
      "Data collection is completed.\n"
     ]
    }
   ],
   "source": [
    "#This cell will take a while to complete. \n",
    "#When complete we will see 'Data collection is completed.'\n",
    "reddit25 = get_data_now('wallstreetbets','stocks', 25_000)"
   ]
  },
  {
   "cell_type": "code",
   "execution_count": 7,
   "id": "e9ce8727-bae7-425a-b562-347949601fdb",
   "metadata": {},
   "outputs": [
    {
     "data": {
      "text/plain": [
       "50000"
      ]
     },
     "execution_count": 7,
     "metadata": {},
     "output_type": "execute_result"
    }
   ],
   "source": [
    "len(reddit25)"
   ]
  },
  {
   "cell_type": "markdown",
   "id": "c3760f13-9ef9-4643-889e-af3572fbfd0e",
   "metadata": {},
   "source": [
    "Get a copy of the long awaited output saved down. Then make a working copy of the dataframe. "
   ]
  },
  {
   "cell_type": "code",
   "execution_count": 8,
   "id": "aa714391-fd48-42ac-a4b2-99c329669739",
   "metadata": {},
   "outputs": [],
   "source": [
    "reddit25.to_csv('./data/reddit25k.csv', index = False)"
   ]
  },
  {
   "cell_type": "code",
   "execution_count": 3,
   "id": "8861779e-97ad-4bd2-8e45-ecd18c2521c0",
   "metadata": {},
   "outputs": [],
   "source": [
    "#incase we need to reset the analysis and start fresh. read in the reddit as df1\n",
    "reddit25 = pd.read_csv('../data/reddit25k.csv')"
   ]
  },
  {
   "cell_type": "code",
   "execution_count": 4,
   "id": "e21df220-3996-484b-abeb-660fd1f3936e",
   "metadata": {},
   "outputs": [],
   "source": [
    "df1 = reddit25.copy()"
   ]
  },
  {
   "cell_type": "markdown",
   "id": "64434987-c4c2-4fc4-bd7f-79317b7bd29c",
   "metadata": {
    "tags": []
   },
   "source": [
    "# Cleaning"
   ]
  },
  {
   "cell_type": "markdown",
   "id": "3fb0f0c1-b4ff-498b-82d3-a49860e527eb",
   "metadata": {},
   "source": [
    "---\n",
    "The `assembler` function took care of a number of different processes. The data should be clean enough for our purposes and ready to tokenize. We will still look to review for any blank or NaN values that made it through the function.  "
   ]
  },
  {
   "cell_type": "code",
   "execution_count": 5,
   "id": "31fbca43-321e-4f81-9f74-ba1ae27880e8",
   "metadata": {},
   "outputs": [
    {
     "name": "stdout",
     "output_type": "stream",
     "text": [
      "<class 'pandas.core.frame.DataFrame'>\n",
      "RangeIndex: 50000 entries, 0 to 49999\n",
      "Data columns (total 4 columns):\n",
      " #   Column       Non-Null Count  Dtype \n",
      "---  ------       --------------  ----- \n",
      " 0   subreddit    50000 non-null  object\n",
      " 1   title        50000 non-null  object\n",
      " 2   selftext     50000 non-null  object\n",
      " 3   created_utc  50000 non-null  int64 \n",
      "dtypes: int64(1), object(3)\n",
      "memory usage: 1.5+ MB\n"
     ]
    }
   ],
   "source": [
    "df1.info()"
   ]
  },
  {
   "cell_type": "markdown",
   "id": "5535a152-6a85-4cbf-8dd1-2b01ab973f10",
   "metadata": {},
   "source": [
    "I explicitly cleaned out `'[removed]'` and `'[deleted]'` from the dataset in the data ingestion phase. Below we will see how many rows contain the character `'['` in the text string. "
   ]
  },
  {
   "cell_type": "code",
   "execution_count": 6,
   "id": "43ebe872-7f26-4eb4-87e0-27eba3d834f1",
   "metadata": {},
   "outputs": [
    {
     "data": {
      "text/plain": [
       "subreddit      wallstreetbetswallstreetbetswallstreetbetswall...\n",
       "title          im just here for the header imagehpe ape analy...\n",
       "selftext       whats the sauce my first post got deleted for ...\n",
       "created_utc                                         335110503143\n",
       "dtype: object"
      ]
     },
     "execution_count": 6,
     "metadata": {},
     "output_type": "execute_result"
    }
   ],
   "source": [
    "df1[df1['selftext'].str.contains('deleted')].sum()"
   ]
  },
  {
   "cell_type": "code",
   "execution_count": 7,
   "id": "6fd32500-5936-42be-9106-2cf8962e703f",
   "metadata": {},
   "outputs": [
    {
     "data": {
      "text/html": [
       "<div>\n",
       "<style scoped>\n",
       "    .dataframe tbody tr th:only-of-type {\n",
       "        vertical-align: middle;\n",
       "    }\n",
       "\n",
       "    .dataframe tbody tr th {\n",
       "        vertical-align: top;\n",
       "    }\n",
       "\n",
       "    .dataframe thead th {\n",
       "        text-align: right;\n",
       "    }\n",
       "</style>\n",
       "<table border=\"1\" class=\"dataframe\">\n",
       "  <thead>\n",
       "    <tr style=\"text-align: right;\">\n",
       "      <th></th>\n",
       "      <th>subreddit</th>\n",
       "      <th>title</th>\n",
       "      <th>selftext</th>\n",
       "      <th>created_utc</th>\n",
       "    </tr>\n",
       "  </thead>\n",
       "  <tbody>\n",
       "    <tr>\n",
       "      <th>264</th>\n",
       "      <td>wallstreetbets</td>\n",
       "      <td>hello fellow apes i have a few questions for r...</td>\n",
       "      <td>okay so basically lets start this of right am ...</td>\n",
       "      <td>1635890330</td>\n",
       "    </tr>\n",
       "    <tr>\n",
       "      <th>582</th>\n",
       "      <td>wallstreetbets</td>\n",
       "      <td>wb rules  please read before posting</td>\n",
       "      <td>welcome to wb reading what in the world is wa...</td>\n",
       "      <td>1635746424</td>\n",
       "    </tr>\n",
       "    <tr>\n",
       "      <th>808</th>\n",
       "      <td>wallstreetbets</td>\n",
       "      <td>grab the inevitable play</td>\n",
       "      <td>grab the inevitable  bagger first submission ...</td>\n",
       "      <td>1635628276</td>\n",
       "    </tr>\n",
       "    <tr>\n",
       "      <th>823</th>\n",
       "      <td>wallstreetbets</td>\n",
       "      <td>idk anything need help</td>\n",
       "      <td>i dont know shit about stocks i got like  to m...</td>\n",
       "      <td>1635621218</td>\n",
       "    </tr>\n",
       "    <tr>\n",
       "      <th>990</th>\n",
       "      <td>wallstreetbets</td>\n",
       "      <td>elon musk supports psychedelic will this affec...</td>\n",
       "      <td>“i think generally people should be open to ps...</td>\n",
       "      <td>1635533869</td>\n",
       "    </tr>\n",
       "    <tr>\n",
       "      <th>...</th>\n",
       "      <td>...</td>\n",
       "      <td>...</td>\n",
       "      <td>...</td>\n",
       "      <td>...</td>\n",
       "    </tr>\n",
       "    <tr>\n",
       "      <th>49199</th>\n",
       "      <td>stocks</td>\n",
       "      <td>hopify removes donald trumps tores what do inv...</td>\n",
       "      <td>o hopify today removed donald trumps stores fr...</td>\n",
       "      <td>1610056442</td>\n",
       "    </tr>\n",
       "    <tr>\n",
       "      <th>49230</th>\n",
       "      <td>stocks</td>\n",
       "      <td>broker removed promoted etfs</td>\n",
       "      <td>hi there  my online broker flatex removed some...</td>\n",
       "      <td>1610047494</td>\n",
       "    </tr>\n",
       "    <tr>\n",
       "      <th>49299</th>\n",
       "      <td>stocks</td>\n",
       "      <td>todays premarket movers amp news thursday janu...</td>\n",
       "      <td>good morning traders and investors of the rsto...</td>\n",
       "      <td>1610026308</td>\n",
       "    </tr>\n",
       "    <tr>\n",
       "      <th>49676</th>\n",
       "      <td>stocks</td>\n",
       "      <td>uggestions about my growth portfolio</td>\n",
       "      <td>ranked by portfolio composition nio   enph   p...</td>\n",
       "      <td>1609809632</td>\n",
       "    </tr>\n",
       "    <tr>\n",
       "      <th>49723</th>\n",
       "      <td>stocks</td>\n",
       "      <td>major option purchases</td>\n",
       "      <td>in this post i will be looking at major option...</td>\n",
       "      <td>1609792363</td>\n",
       "    </tr>\n",
       "  </tbody>\n",
       "</table>\n",
       "<p>499 rows × 4 columns</p>\n",
       "</div>"
      ],
      "text/plain": [
       "            subreddit                                              title  \\\n",
       "264    wallstreetbets  hello fellow apes i have a few questions for r...   \n",
       "582    wallstreetbets               wb rules  please read before posting   \n",
       "808    wallstreetbets                           grab the inevitable play   \n",
       "823    wallstreetbets                             idk anything need help   \n",
       "990    wallstreetbets  elon musk supports psychedelic will this affec...   \n",
       "...               ...                                                ...   \n",
       "49199          stocks  hopify removes donald trumps tores what do inv...   \n",
       "49230          stocks                       broker removed promoted etfs   \n",
       "49299          stocks  todays premarket movers amp news thursday janu...   \n",
       "49676          stocks               uggestions about my growth portfolio   \n",
       "49723          stocks                          major option purchases      \n",
       "\n",
       "                                                selftext  created_utc  \n",
       "264    okay so basically lets start this of right am ...   1635890330  \n",
       "582     welcome to wb reading what in the world is wa...   1635746424  \n",
       "808     grab the inevitable  bagger first submission ...   1635628276  \n",
       "823    i dont know shit about stocks i got like  to m...   1635621218  \n",
       "990    “i think generally people should be open to ps...   1635533869  \n",
       "...                                                  ...          ...  \n",
       "49199  o hopify today removed donald trumps stores fr...   1610056442  \n",
       "49230  hi there  my online broker flatex removed some...   1610047494  \n",
       "49299  good morning traders and investors of the rsto...   1610026308  \n",
       "49676  ranked by portfolio composition nio   enph   p...   1609809632  \n",
       "49723  in this post i will be looking at major option...   1609792363  \n",
       "\n",
       "[499 rows x 4 columns]"
      ]
     },
     "execution_count": 7,
     "metadata": {},
     "output_type": "execute_result"
    }
   ],
   "source": [
    "df1[df1['selftext'].str.contains('removed')]"
   ]
  },
  {
   "cell_type": "markdown",
   "id": "68210280-a61c-4e9e-ae9e-04496643a8c3",
   "metadata": {},
   "source": [
    "The above shows that there are many rows containing the catch words `'removed'` and `'deleted'`. However, none of these rows is without text or has been moderated out of the reddit sub. This is ideal since we get to keep these rows of text."
   ]
  },
  {
   "cell_type": "code",
   "execution_count": 8,
   "id": "bc00ec68-7a90-44b8-b622-135e97ecb595",
   "metadata": {},
   "outputs": [
    {
     "data": {
      "text/plain": [
       "subreddit      0.0\n",
       "title          0.0\n",
       "selftext       0.0\n",
       "created_utc    0.0\n",
       "dtype: float64"
      ]
     },
     "execution_count": 8,
     "metadata": {},
     "output_type": "execute_result"
    }
   ],
   "source": [
    "df1[df1['selftext'] == ''].sum()"
   ]
  },
  {
   "cell_type": "code",
   "execution_count": 9,
   "id": "a1e34191-78e9-4167-9347-c28877344e41",
   "metadata": {},
   "outputs": [
    {
     "data": {
      "text/html": [
       "<div>\n",
       "<style scoped>\n",
       "    .dataframe tbody tr th:only-of-type {\n",
       "        vertical-align: middle;\n",
       "    }\n",
       "\n",
       "    .dataframe tbody tr th {\n",
       "        vertical-align: top;\n",
       "    }\n",
       "\n",
       "    .dataframe thead th {\n",
       "        text-align: right;\n",
       "    }\n",
       "</style>\n",
       "<table border=\"1\" class=\"dataframe\">\n",
       "  <thead>\n",
       "    <tr style=\"text-align: right;\">\n",
       "      <th></th>\n",
       "      <th>subreddit</th>\n",
       "      <th>title</th>\n",
       "      <th>selftext</th>\n",
       "      <th>created_utc</th>\n",
       "    </tr>\n",
       "  </thead>\n",
       "  <tbody>\n",
       "    <tr>\n",
       "      <th>0</th>\n",
       "      <td>wallstreetbets</td>\n",
       "      <td>help</td>\n",
       "      <td>i just sold my car for  i wanna know if can do...</td>\n",
       "      <td>1635955282</td>\n",
       "    </tr>\n",
       "    <tr>\n",
       "      <th>1</th>\n",
       "      <td>wallstreetbets</td>\n",
       "      <td>hyzn preparing for a squeeze…</td>\n",
       "      <td>hyzn still yet to recover from the weak short ...</td>\n",
       "      <td>1635955250</td>\n",
       "    </tr>\n",
       "    <tr>\n",
       "      <th>2</th>\n",
       "      <td>wallstreetbets</td>\n",
       "      <td>all in on meta</td>\n",
       "      <td>cut to the chase i’m all in on meta here is ...</td>\n",
       "      <td>1635955106</td>\n",
       "    </tr>\n",
       "    <tr>\n",
       "      <th>3</th>\n",
       "      <td>wallstreetbets</td>\n",
       "      <td>camping world holdings moon discussion</td>\n",
       "      <td>beat on both the top and bottom line by a heal...</td>\n",
       "      <td>1635954989</td>\n",
       "    </tr>\n",
       "    <tr>\n",
       "      <th>4</th>\n",
       "      <td>wallstreetbets</td>\n",
       "      <td>camping world holdings moon discussion  market...</td>\n",
       "      <td>beat on both the top and bottom line by a heal...</td>\n",
       "      <td>1635954885</td>\n",
       "    </tr>\n",
       "  </tbody>\n",
       "</table>\n",
       "</div>"
      ],
      "text/plain": [
       "        subreddit                                              title  \\\n",
       "0  wallstreetbets                                               help   \n",
       "1  wallstreetbets                      hyzn preparing for a squeeze…   \n",
       "2  wallstreetbets                                     all in on meta   \n",
       "3  wallstreetbets             camping world holdings moon discussion   \n",
       "4  wallstreetbets  camping world holdings moon discussion  market...   \n",
       "\n",
       "                                            selftext  created_utc  \n",
       "0  i just sold my car for  i wanna know if can do...   1635955282  \n",
       "1  hyzn still yet to recover from the weak short ...   1635955250  \n",
       "2    cut to the chase i’m all in on meta here is ...   1635955106  \n",
       "3  beat on both the top and bottom line by a heal...   1635954989  \n",
       "4  beat on both the top and bottom line by a heal...   1635954885  "
      ]
     },
     "execution_count": 9,
     "metadata": {},
     "output_type": "execute_result"
    }
   ],
   "source": [
    "df1.head()\n"
   ]
  },
  {
   "cell_type": "markdown",
   "id": "681341a8-ba6b-4cec-84c0-b191b99a4c69",
   "metadata": {
    "tags": []
   },
   "source": [
    "## Expanding contractions over the corpus. \n",
    "-----\n",
    "I will expand the contractions over the entire corpus of both subreddits.\n",
    "To acheive this, I was inspired by user: [arturomp](https://stackoverflow.com/users/583834/arturomp). His supplied answer stated that they had parsed the wikipedia page. I just learned how to do that, so I decided to follow suit and built a function to scrape the page and build a dictionary from the table on the wikipage. \n",
    "\n",
    " \n",
    "\n",
    "\n",
    "---\n",
    "Reference: \\\n",
    "See the thread in [StackOverflow](https://stackoverflow.com/questions/19790188/expanding-english-language-contractions-in-python)\n",
    "\n",
    "'List of English Contractions': [Wikipedia](https://en.wikipedia.org/wiki/Wikipedia:List_of_English_contractions)\n"
   ]
  },
  {
   "cell_type": "code",
   "execution_count": 10,
   "id": "12da583f-5c0a-4388-8e29-aece3c8c5d51",
   "metadata": {},
   "outputs": [],
   "source": [
    "from bs4 import BeautifulSoup"
   ]
  },
  {
   "cell_type": "code",
   "execution_count": 11,
   "id": "29e30390-4d04-488d-844a-ff5d21bd0d3a",
   "metadata": {},
   "outputs": [],
   "source": [
    "def get_contractions(url):\n",
    "    '''\n",
    "    Takes a url of a location where a list of english language contactions are. \n",
    "    Scrapes the table to build our output, a dictionary of contractions and expanded words.\n",
    "    '''\n",
    "    #url = 'https://en.wikipedia.org/wiki/Wikipedia:List_of_English_contractions'\n",
    "    res = requests.get(url)\n",
    "    soup = BeautifulSoup(res.text, 'html.parser')\n",
    "    table_class= 'wikitable sortable jquery-tablesorter'\n",
    "    #in_table=soup.find('table',{'class':\"wikitable\"})\n",
    "    \n",
    "    inp = []\n",
    "    table = soup.find('table', attrs={'class':'wikitable'})\n",
    "    tbody = table.find('tbody')\n",
    "    trs  = tbody.find_all('tr')\n",
    "    \n",
    "    for tr in trs:\n",
    "        item = []\n",
    "        tds = tr.find_all('td')\n",
    "        for td in tds:\n",
    "            a = td.text\n",
    "            a = str(a).replace(\"\\n\", \"\").replace(\"(informal)\", \"\").replace(\"(colloquial)\", \"\").replace(\"(colloquial/Southern American English)\", \"\")\n",
    "            a = a.replace(\"(archaic)\", \"\").replace(\"(formal)\", \"\")#.replace(\"[\\n\\r]+\", \"\", regex = True)\n",
    "            a = a.lower()\n",
    "            item.append(a)\n",
    "        inp.append(item)\n",
    "    \n",
    "        \n",
    "\n",
    "    inp.pop(0)\n",
    "    contractions={}\n",
    "    for ele in inp:\n",
    "        val = ele[1].split('/',1)\n",
    "        val_sub = val[0]\n",
    "        key, value = ele[0].rstrip(), val_sub.rstrip()\n",
    "        contractions[key] = value\n",
    "    return contractions"
   ]
  },
  {
   "cell_type": "code",
   "execution_count": 12,
   "id": "06fd2785-53c0-4e1d-8f99-dcfabe297675",
   "metadata": {},
   "outputs": [],
   "source": [
    "contractions = get_contractions('https://en.wikipedia.org/wiki/Wikipedia:List_of_English_contractions')"
   ]
  },
  {
   "cell_type": "code",
   "execution_count": 13,
   "id": "d66d5886-1599-4026-9bbf-2685678e00f7",
   "metadata": {},
   "outputs": [
    {
     "data": {
      "text/plain": [
       "'i am'"
      ]
     },
     "execution_count": 13,
     "metadata": {},
     "output_type": "execute_result"
    }
   ],
   "source": [
    "contractions[\"i'm\"]"
   ]
  },
  {
   "cell_type": "code",
   "execution_count": 14,
   "id": "1eddb208-92f7-418d-bb78-61aabaa767b1",
   "metadata": {},
   "outputs": [],
   "source": [
    "def uncontract(post):\n",
    "    '''\n",
    "    meant to be used in a lambda or mapped function call. \n",
    "    This function takes a post and then will parse over each word in the post for contractions.\n",
    "    If a contraction is found, the function will replace that word with the uncontracted form. \n",
    "    The new word is added to the new string and once completed the new string will be returned to the caller. \n",
    "    '''\n",
    "    output = []\n",
    "    post_words = post.split()\n",
    "    #print(post_words)\n",
    "    #value = None\n",
    "    \n",
    "    for word in post_words:\n",
    "        if word not in contractions:\n",
    "            #print('AAAAAH')\n",
    "            output.append(word)\n",
    "        elif word in contractions:\n",
    "            output.append(contractions[word])\n",
    "        else:\n",
    "            print('bananas')\n",
    "    \n",
    "    output = ' '.join(output)\n",
    "      \n",
    "    return output"
   ]
  },
  {
   "cell_type": "code",
   "execution_count": 16,
   "id": "3389ef35-409b-4e05-814a-6a8c4fe3e2ca",
   "metadata": {},
   "outputs": [
    {
     "data": {
      "text/plain": [
       "\"cut to the chase i'm all in on meta here is\""
      ]
     },
     "execution_count": 16,
     "metadata": {},
     "output_type": "execute_result"
    }
   ],
   "source": [
    "test = \"cut to the chase i'm all in on meta here is\"\n",
    "test"
   ]
  },
  {
   "cell_type": "code",
   "execution_count": 17,
   "id": "cd4d1e46-714b-4ddb-b0e9-04873611ef7a",
   "metadata": {},
   "outputs": [
    {
     "data": {
      "text/plain": [
       "'cut to the chase i am all in on meta here is'"
      ]
     },
     "execution_count": 17,
     "metadata": {},
     "output_type": "execute_result"
    }
   ],
   "source": [
    "uncontract(test)"
   ]
  },
  {
   "cell_type": "code",
   "execution_count": 18,
   "id": "00aa925c-6455-48a1-b3e6-3bf0da36d6c6",
   "metadata": {},
   "outputs": [
    {
     "data": {
      "text/html": [
       "<div>\n",
       "<style scoped>\n",
       "    .dataframe tbody tr th:only-of-type {\n",
       "        vertical-align: middle;\n",
       "    }\n",
       "\n",
       "    .dataframe tbody tr th {\n",
       "        vertical-align: top;\n",
       "    }\n",
       "\n",
       "    .dataframe thead th {\n",
       "        text-align: right;\n",
       "    }\n",
       "</style>\n",
       "<table border=\"1\" class=\"dataframe\">\n",
       "  <thead>\n",
       "    <tr style=\"text-align: right;\">\n",
       "      <th></th>\n",
       "      <th>subreddit</th>\n",
       "      <th>title</th>\n",
       "      <th>selftext</th>\n",
       "      <th>created_utc</th>\n",
       "    </tr>\n",
       "  </thead>\n",
       "  <tbody>\n",
       "  </tbody>\n",
       "</table>\n",
       "</div>"
      ],
      "text/plain": [
       "Empty DataFrame\n",
       "Columns: [subreddit, title, selftext, created_utc]\n",
       "Index: []"
      ]
     },
     "execution_count": 18,
     "metadata": {},
     "output_type": "execute_result"
    }
   ],
   "source": [
    "df1[df1['selftext'].str.contains('\\'')].head(3)"
   ]
  },
  {
   "cell_type": "code",
   "execution_count": 19,
   "id": "4ee55f64-9552-4fe0-a518-9b8f8a31089e",
   "metadata": {},
   "outputs": [
    {
     "data": {
      "text/html": [
       "<div>\n",
       "<style scoped>\n",
       "    .dataframe tbody tr th:only-of-type {\n",
       "        vertical-align: middle;\n",
       "    }\n",
       "\n",
       "    .dataframe tbody tr th {\n",
       "        vertical-align: top;\n",
       "    }\n",
       "\n",
       "    .dataframe thead th {\n",
       "        text-align: right;\n",
       "    }\n",
       "</style>\n",
       "<table border=\"1\" class=\"dataframe\">\n",
       "  <thead>\n",
       "    <tr style=\"text-align: right;\">\n",
       "      <th></th>\n",
       "      <th>subreddit</th>\n",
       "      <th>title</th>\n",
       "      <th>selftext</th>\n",
       "      <th>created_utc</th>\n",
       "    </tr>\n",
       "  </thead>\n",
       "  <tbody>\n",
       "    <tr>\n",
       "      <th>59</th>\n",
       "      <td>wallstreetbets</td>\n",
       "      <td>and me me is reinventing health care i think ...</td>\n",
       "      <td>me is gonna blow up i’m a noob but i think it’...</td>\n",
       "      <td>1635947919</td>\n",
       "    </tr>\n",
       "    <tr>\n",
       "      <th>81</th>\n",
       "      <td>wallstreetbets</td>\n",
       "      <td>cathie bought zillow’s dip</td>\n",
       "      <td>cathie wood’s flagship exchangetraded fund pou...</td>\n",
       "      <td>1635944837</td>\n",
       "    </tr>\n",
       "    <tr>\n",
       "      <th>155</th>\n",
       "      <td>wallstreetbets</td>\n",
       "      <td>why isn’t anyone talking about phun</td>\n",
       "      <td>why isn’t anyone talking about phun sorry but ...</td>\n",
       "      <td>1635918007</td>\n",
       "    </tr>\n",
       "  </tbody>\n",
       "</table>\n",
       "</div>"
      ],
      "text/plain": [
       "          subreddit                                              title  \\\n",
       "59   wallstreetbets   and me me is reinventing health care i think ...   \n",
       "81   wallstreetbets                         cathie bought zillow’s dip   \n",
       "155  wallstreetbets                why isn’t anyone talking about phun   \n",
       "\n",
       "                                              selftext  created_utc  \n",
       "59   me is gonna blow up i’m a noob but i think it’...   1635947919  \n",
       "81   cathie wood’s flagship exchangetraded fund pou...   1635944837  \n",
       "155  why isn’t anyone talking about phun sorry but ...   1635918007  "
      ]
     },
     "execution_count": 19,
     "metadata": {},
     "output_type": "execute_result"
    }
   ],
   "source": [
    "df1[df1['title'].str.contains('’')].head(3)"
   ]
  },
  {
   "cell_type": "markdown",
   "id": "fecbf287-68e1-47a0-beaa-0abf19193300",
   "metadata": {},
   "source": [
    "The above shows that the corpus still has weird characters within it. This time it is a back-tick masquerading as an apostrophe. \n",
    "I will run another regex function over the corpus of selftext and title to remove them."
   ]
  },
  {
   "cell_type": "code",
   "execution_count": 20,
   "id": "7ec493f2-5540-42f2-b539-1f7627bf9941",
   "metadata": {},
   "outputs": [],
   "source": [
    "df1['title'] = df1['title'].replace('’','\\'', regex=True)"
   ]
  },
  {
   "cell_type": "code",
   "execution_count": 21,
   "id": "ec187d4e-7bcc-42af-bafe-1460882b5084",
   "metadata": {},
   "outputs": [],
   "source": [
    "df1['selftext'] = df1['selftext'].replace('’','\\'', regex=True)"
   ]
  },
  {
   "cell_type": "code",
   "execution_count": 22,
   "id": "34fe9def-572b-46c9-9143-f4524fc301ca",
   "metadata": {},
   "outputs": [
    {
     "data": {
      "text/plain": [
       "'cut to the chase i am all in on meta here is'"
      ]
     },
     "execution_count": 22,
     "metadata": {},
     "output_type": "execute_result"
    }
   ],
   "source": [
    "uncontract(test)"
   ]
  },
  {
   "cell_type": "code",
   "execution_count": 23,
   "id": "6f7c8b67-3d9a-400c-824d-d5401ab2d302",
   "metadata": {},
   "outputs": [],
   "source": [
    "df1['selftext'] = df1['selftext'].apply(lambda x: uncontract(x)) "
   ]
  },
  {
   "cell_type": "code",
   "execution_count": 24,
   "id": "7a563dc2-5df2-4da2-8027-8ece7027d936",
   "metadata": {},
   "outputs": [],
   "source": [
    "df1['title'] = df1['title'].apply(lambda x: uncontract(x))"
   ]
  },
  {
   "cell_type": "code",
   "execution_count": 25,
   "id": "1ed3a704-69c2-4bb1-aca6-86725816bbfc",
   "metadata": {},
   "outputs": [
    {
     "data": {
      "text/html": [
       "<div>\n",
       "<style scoped>\n",
       "    .dataframe tbody tr th:only-of-type {\n",
       "        vertical-align: middle;\n",
       "    }\n",
       "\n",
       "    .dataframe tbody tr th {\n",
       "        vertical-align: top;\n",
       "    }\n",
       "\n",
       "    .dataframe thead th {\n",
       "        text-align: right;\n",
       "    }\n",
       "</style>\n",
       "<table border=\"1\" class=\"dataframe\">\n",
       "  <thead>\n",
       "    <tr style=\"text-align: right;\">\n",
       "      <th></th>\n",
       "      <th>subreddit</th>\n",
       "      <th>title</th>\n",
       "      <th>selftext</th>\n",
       "      <th>created_utc</th>\n",
       "    </tr>\n",
       "  </thead>\n",
       "  <tbody>\n",
       "    <tr>\n",
       "      <th>2</th>\n",
       "      <td>wallstreetbets</td>\n",
       "      <td>all in on meta</td>\n",
       "      <td>cut to the chase i am all in on meta here is w...</td>\n",
       "      <td>1635955106</td>\n",
       "    </tr>\n",
       "    <tr>\n",
       "      <th>49</th>\n",
       "      <td>wallstreetbets</td>\n",
       "      <td>the ev pace evgo</td>\n",
       "      <td>good day to an army of investors that have hel...</td>\n",
       "      <td>1635948692</td>\n",
       "    </tr>\n",
       "    <tr>\n",
       "      <th>75</th>\n",
       "      <td>wallstreetbets</td>\n",
       "      <td>context logic wih positives</td>\n",
       "      <td>anything to add expansion correos partnership ...</td>\n",
       "      <td>1635945993</td>\n",
       "    </tr>\n",
       "    <tr>\n",
       "      <th>81</th>\n",
       "      <td>wallstreetbets</td>\n",
       "      <td>cathie bought zillow's dip</td>\n",
       "      <td>cathie wood's flagship exchangetraded fund pou...</td>\n",
       "      <td>1635944837</td>\n",
       "    </tr>\n",
       "    <tr>\n",
       "      <th>86</th>\n",
       "      <td>wallstreetbets</td>\n",
       "      <td>is agc grab announcement imminent</td>\n",
       "      <td>received earlier today notification hareworks ...</td>\n",
       "      <td>1635944369</td>\n",
       "    </tr>\n",
       "    <tr>\n",
       "      <th>...</th>\n",
       "      <td>...</td>\n",
       "      <td>...</td>\n",
       "      <td>...</td>\n",
       "      <td>...</td>\n",
       "    </tr>\n",
       "    <tr>\n",
       "      <th>49947</th>\n",
       "      <td>stocks</td>\n",
       "      <td>aventures in investing in and out of bynd and ...</td>\n",
       "      <td>finance blog adventures in investing o i had g...</td>\n",
       "      <td>1609634253</td>\n",
       "    </tr>\n",
       "    <tr>\n",
       "      <th>49978</th>\n",
       "      <td>stocks</td>\n",
       "      <td>are renewables stocks really overvalued if we ...</td>\n",
       "      <td>we have entered the “renewablesenergy arms rac...</td>\n",
       "      <td>1609616478</td>\n",
       "    </tr>\n",
       "    <tr>\n",
       "      <th>49981</th>\n",
       "      <td>stocks</td>\n",
       "      <td>more money tupider bets</td>\n",
       "      <td>i am sure i am not the only one but the moment...</td>\n",
       "      <td>1609615936</td>\n",
       "    </tr>\n",
       "    <tr>\n",
       "      <th>49988</th>\n",
       "      <td>stocks</td>\n",
       "      <td>a big year for the likes of amazon and netflix...</td>\n",
       "      <td>tech big tech was the big winner by far of the...</td>\n",
       "      <td>1609612461</td>\n",
       "    </tr>\n",
       "    <tr>\n",
       "      <th>49991</th>\n",
       "      <td>stocks</td>\n",
       "      <td>icln going up biden set to supercharge clean e...</td>\n",
       "      <td>im dumb does anyone know if this is great news...</td>\n",
       "      <td>1609611192</td>\n",
       "    </tr>\n",
       "  </tbody>\n",
       "</table>\n",
       "<p>5612 rows × 4 columns</p>\n",
       "</div>"
      ],
      "text/plain": [
       "            subreddit                                              title  \\\n",
       "2      wallstreetbets                                     all in on meta   \n",
       "49     wallstreetbets                                   the ev pace evgo   \n",
       "75     wallstreetbets                        context logic wih positives   \n",
       "81     wallstreetbets                         cathie bought zillow's dip   \n",
       "86     wallstreetbets                  is agc grab announcement imminent   \n",
       "...               ...                                                ...   \n",
       "49947          stocks  aventures in investing in and out of bynd and ...   \n",
       "49978          stocks  are renewables stocks really overvalued if we ...   \n",
       "49981          stocks                            more money tupider bets   \n",
       "49988          stocks  a big year for the likes of amazon and netflix...   \n",
       "49991          stocks  icln going up biden set to supercharge clean e...   \n",
       "\n",
       "                                                selftext  created_utc  \n",
       "2      cut to the chase i am all in on meta here is w...   1635955106  \n",
       "49     good day to an army of investors that have hel...   1635948692  \n",
       "75     anything to add expansion correos partnership ...   1635945993  \n",
       "81     cathie wood's flagship exchangetraded fund pou...   1635944837  \n",
       "86     received earlier today notification hareworks ...   1635944369  \n",
       "...                                                  ...          ...  \n",
       "49947  finance blog adventures in investing o i had g...   1609634253  \n",
       "49978  we have entered the “renewablesenergy arms rac...   1609616478  \n",
       "49981  i am sure i am not the only one but the moment...   1609615936  \n",
       "49988  tech big tech was the big winner by far of the...   1609612461  \n",
       "49991  im dumb does anyone know if this is great news...   1609611192  \n",
       "\n",
       "[5612 rows x 4 columns]"
      ]
     },
     "execution_count": 25,
     "metadata": {},
     "output_type": "execute_result"
    }
   ],
   "source": [
    "df1[df1['selftext'].str.contains('\\'')]"
   ]
  },
  {
   "cell_type": "code",
   "execution_count": 26,
   "id": "980027bd-7af3-49ac-8915-7ded630efb6c",
   "metadata": {},
   "outputs": [
    {
     "data": {
      "text/plain": [
       "\"received earlier today notification hareworks uspension and ystem transition to a public platform hi grab hareworks user in preparation for grab's transition to a publicly listed company hareworks will be suspended some time in november and will only be reactivated after grab is listed as a public company\""
      ]
     },
     "execution_count": 26,
     "metadata": {},
     "output_type": "execute_result"
    }
   ],
   "source": [
    "df1.iloc[86]['selftext']"
   ]
  },
  {
   "cell_type": "markdown",
   "id": "5c7996a8-463c-49de-8789-f17d78293bea",
   "metadata": {
    "tags": []
   },
   "source": [
    "## Saving copy for VADER and TF-IDF later.\n",
    "----\n",
    "Save down a copy for VADER sentiment anlaysis later. \n",
    "Emoji's have been previously stripped in the Assembly phase. "
   ]
  },
  {
   "cell_type": "code",
   "execution_count": 26,
   "id": "097fbc45-48b1-444e-b391-6d3773b7a637",
   "metadata": {},
   "outputs": [],
   "source": [
    "df_vader = df1.copy()"
   ]
  },
  {
   "cell_type": "code",
   "execution_count": 5,
   "id": "9346fff4-4f5c-4e0e-a8ac-650f9fe29d05",
   "metadata": {},
   "outputs": [],
   "source": [
    "df_idf = df1.copy()"
   ]
  },
  {
   "cell_type": "markdown",
   "id": "8d04e78c-3824-4e3e-8e22-5f415351c714",
   "metadata": {
    "tags": []
   },
   "source": [
    "## Tokenization and lemmatizing \n",
    "---\n",
    "### Tokens\n",
    "Below I will take all rows and all columns to tokenize and then lammatize the corpus of `selftext` and `title`."
   ]
  },
  {
   "cell_type": "code",
   "execution_count": 27,
   "id": "9c776836-c85e-4aee-a589-ca2cb327c564",
   "metadata": {},
   "outputs": [],
   "source": [
    "def tokened(inp):\n",
    "    word=re.split(\"\\W+\",inp) \n",
    "    return word"
   ]
  },
  {
   "cell_type": "code",
   "execution_count": 28,
   "id": "3566bd77-9c8d-4200-9e01-abb63d5f96cc",
   "metadata": {},
   "outputs": [],
   "source": [
    "df1['selftext'] = df1['selftext'].apply(lambda x: tokened(x.lower()))"
   ]
  },
  {
   "cell_type": "code",
   "execution_count": 29,
   "id": "8f26a106-c817-4d46-aeab-b44c17b90865",
   "metadata": {},
   "outputs": [
    {
     "name": "stdout",
     "output_type": "stream",
     "text": [
      "CPU times: user 228 ms, sys: 14.7 ms, total: 243 ms\n",
      "Wall time: 244 ms\n"
     ]
    }
   ],
   "source": [
    "%%time\n",
    "df1['title'] = df1['title'].apply(lambda x: tokened(x.lower()))"
   ]
  },
  {
   "cell_type": "code",
   "execution_count": 30,
   "id": "a99d5080-7e47-41a7-9db7-9e408bb7cc12",
   "metadata": {},
   "outputs": [
    {
     "data": {
      "text/html": [
       "<div>\n",
       "<style scoped>\n",
       "    .dataframe tbody tr th:only-of-type {\n",
       "        vertical-align: middle;\n",
       "    }\n",
       "\n",
       "    .dataframe tbody tr th {\n",
       "        vertical-align: top;\n",
       "    }\n",
       "\n",
       "    .dataframe thead th {\n",
       "        text-align: right;\n",
       "    }\n",
       "</style>\n",
       "<table border=\"1\" class=\"dataframe\">\n",
       "  <thead>\n",
       "    <tr style=\"text-align: right;\">\n",
       "      <th></th>\n",
       "      <th>subreddit</th>\n",
       "      <th>title</th>\n",
       "      <th>selftext</th>\n",
       "      <th>created_utc</th>\n",
       "    </tr>\n",
       "  </thead>\n",
       "  <tbody>\n",
       "    <tr>\n",
       "      <th>49998</th>\n",
       "      <td>stocks</td>\n",
       "      <td>[importing, portfolio, data, into, yahoo, fina...</td>\n",
       "      <td>[hello, im, importing, portfolio, data, into, ...</td>\n",
       "      <td>1609609458</td>\n",
       "    </tr>\n",
       "    <tr>\n",
       "      <th>49999</th>\n",
       "      <td>stocks</td>\n",
       "      <td>[arent, you, guys, ever, worried, that, youre,...</td>\n",
       "      <td>[i, think, about, joseph, kennedys, famous, ho...</td>\n",
       "      <td>1609608970</td>\n",
       "    </tr>\n",
       "  </tbody>\n",
       "</table>\n",
       "</div>"
      ],
      "text/plain": [
       "      subreddit                                              title  \\\n",
       "49998    stocks  [importing, portfolio, data, into, yahoo, fina...   \n",
       "49999    stocks  [arent, you, guys, ever, worried, that, youre,...   \n",
       "\n",
       "                                                selftext  created_utc  \n",
       "49998  [hello, im, importing, portfolio, data, into, ...   1609609458  \n",
       "49999  [i, think, about, joseph, kennedys, famous, ho...   1609608970  "
      ]
     },
     "execution_count": 30,
     "metadata": {},
     "output_type": "execute_result"
    }
   ],
   "source": [
    "df1.tail(2)"
   ]
  },
  {
   "cell_type": "markdown",
   "id": "648da873-12b3-4548-a420-7b5c5e0e7396",
   "metadata": {},
   "source": [
    "Stops: get all the stopwords out of the corpus of texts. "
   ]
  },
  {
   "cell_type": "code",
   "execution_count": 31,
   "id": "ae45dabc-eaa7-4ceb-a166-c5d6ac0ea1e8",
   "metadata": {},
   "outputs": [],
   "source": [
    "stopword = nltk.corpus.stopwords.words('english')"
   ]
  },
  {
   "cell_type": "code",
   "execution_count": 32,
   "id": "5c6ac967-2fc5-42f8-b734-2117ef878321",
   "metadata": {},
   "outputs": [],
   "source": [
    "##cleaning function##credit: https://towardsdatascience.com/nlp-in-python-data-cleaning-6313a404a470\n",
    "def remove_stopwords(text):\n",
    "    text=[word for word in text if word not in stopword]\n",
    "    return text"
   ]
  },
  {
   "cell_type": "code",
   "execution_count": 33,
   "id": "fa4c0caf-2d34-459c-b256-a35d94c88045",
   "metadata": {},
   "outputs": [
    {
     "name": "stdout",
     "output_type": "stream",
     "text": [
      "CPU times: user 14.4 s, sys: 83.1 ms, total: 14.5 s\n",
      "Wall time: 14.5 s\n"
     ]
    }
   ],
   "source": [
    "%%time\n",
    "df1['selftext'] = df1['selftext'].apply(lambda x: remove_stopwords(x))"
   ]
  },
  {
   "cell_type": "code",
   "execution_count": 34,
   "id": "7b19880b-1bf0-47f6-9b85-88b27f1f8576",
   "metadata": {},
   "outputs": [],
   "source": [
    "df1['title'] = df1['title'].apply(lambda x: remove_stopwords(x))"
   ]
  },
  {
   "cell_type": "code",
   "execution_count": 35,
   "id": "97456702-bdb0-4144-804f-232e938f217a",
   "metadata": {},
   "outputs": [
    {
     "data": {
      "text/html": [
       "<div>\n",
       "<style scoped>\n",
       "    .dataframe tbody tr th:only-of-type {\n",
       "        vertical-align: middle;\n",
       "    }\n",
       "\n",
       "    .dataframe tbody tr th {\n",
       "        vertical-align: top;\n",
       "    }\n",
       "\n",
       "    .dataframe thead th {\n",
       "        text-align: right;\n",
       "    }\n",
       "</style>\n",
       "<table border=\"1\" class=\"dataframe\">\n",
       "  <thead>\n",
       "    <tr style=\"text-align: right;\">\n",
       "      <th></th>\n",
       "      <th>subreddit</th>\n",
       "      <th>title</th>\n",
       "      <th>selftext</th>\n",
       "      <th>created_utc</th>\n",
       "    </tr>\n",
       "  </thead>\n",
       "  <tbody>\n",
       "  </tbody>\n",
       "</table>\n",
       "</div>"
      ],
      "text/plain": [
       "Empty DataFrame\n",
       "Columns: [subreddit, title, selftext, created_utc]\n",
       "Index: []"
      ]
     },
     "execution_count": 35,
     "metadata": {},
     "output_type": "execute_result"
    }
   ],
   "source": [
    "df1[df1['title']=='']"
   ]
  },
  {
   "cell_type": "code",
   "execution_count": 36,
   "id": "97941efb-8934-43fa-9774-de2c8a871653",
   "metadata": {},
   "outputs": [
    {
     "data": {
      "text/html": [
       "<div>\n",
       "<style scoped>\n",
       "    .dataframe tbody tr th:only-of-type {\n",
       "        vertical-align: middle;\n",
       "    }\n",
       "\n",
       "    .dataframe tbody tr th {\n",
       "        vertical-align: top;\n",
       "    }\n",
       "\n",
       "    .dataframe thead th {\n",
       "        text-align: right;\n",
       "    }\n",
       "</style>\n",
       "<table border=\"1\" class=\"dataframe\">\n",
       "  <thead>\n",
       "    <tr style=\"text-align: right;\">\n",
       "      <th></th>\n",
       "      <th>subreddit</th>\n",
       "      <th>title</th>\n",
       "      <th>selftext</th>\n",
       "      <th>created_utc</th>\n",
       "    </tr>\n",
       "  </thead>\n",
       "  <tbody>\n",
       "    <tr>\n",
       "      <th>0</th>\n",
       "      <td>wallstreetbets</td>\n",
       "      <td>[help]</td>\n",
       "      <td>[sold, car, want, know, double, money, finance...</td>\n",
       "      <td>1635955282</td>\n",
       "    </tr>\n",
       "    <tr>\n",
       "      <th>1</th>\n",
       "      <td>wallstreetbets</td>\n",
       "      <td>[hyzn, preparing, squeeze, ]</td>\n",
       "      <td>[hyzn, still, yet, recover, weak, short, repor...</td>\n",
       "      <td>1635955250</td>\n",
       "    </tr>\n",
       "    <tr>\n",
       "      <th>2</th>\n",
       "      <td>wallstreetbets</td>\n",
       "      <td>[meta]</td>\n",
       "      <td>[cut, chase, meta, meta, outrageously, underva...</td>\n",
       "      <td>1635955106</td>\n",
       "    </tr>\n",
       "    <tr>\n",
       "      <th>3</th>\n",
       "      <td>wallstreetbets</td>\n",
       "      <td>[camping, world, holdings, moon, discussion]</td>\n",
       "      <td>[beat, top, bottom, line, healthy, amount, con...</td>\n",
       "      <td>1635954989</td>\n",
       "    </tr>\n",
       "    <tr>\n",
       "      <th>4</th>\n",
       "      <td>wallstreetbets</td>\n",
       "      <td>[camping, world, holdings, moon, discussion, m...</td>\n",
       "      <td>[beat, top, bottom, line, healthy, amount, con...</td>\n",
       "      <td>1635954885</td>\n",
       "    </tr>\n",
       "    <tr>\n",
       "      <th>5</th>\n",
       "      <td>wallstreetbets</td>\n",
       "      <td>[trade, hkex, america]</td>\n",
       "      <td>[got, stocks, got, delisted, nadaq, got, adrs,...</td>\n",
       "      <td>1635954875</td>\n",
       "    </tr>\n",
       "    <tr>\n",
       "      <th>6</th>\n",
       "      <td>wallstreetbets</td>\n",
       "      <td>[ava]</td>\n",
       "      <td>[manipulating, ava, long, time, trading, since...</td>\n",
       "      <td>1635954602</td>\n",
       "    </tr>\n",
       "    <tr>\n",
       "      <th>7</th>\n",
       "      <td>wallstreetbets</td>\n",
       "      <td>[come, one, talking, camping, world, holdings]</td>\n",
       "      <td>[beat, top, bottom, line, healthy, amount, con...</td>\n",
       "      <td>1635954580</td>\n",
       "    </tr>\n",
       "    <tr>\n",
       "      <th>8</th>\n",
       "      <td>wallstreetbets</td>\n",
       "      <td>[cim, last, mos, gt, upside, dividend]</td>\n",
       "      <td>[check, cim, tear, last, mos, crushed, earning...</td>\n",
       "      <td>1635954458</td>\n",
       "    </tr>\n",
       "    <tr>\n",
       "      <th>9</th>\n",
       "      <td>wallstreetbets</td>\n",
       "      <td>[quick, options, question, retard, addition]</td>\n",
       "      <td>[money, call, options, still, lose, money, clo...</td>\n",
       "      <td>1635954187</td>\n",
       "    </tr>\n",
       "  </tbody>\n",
       "</table>\n",
       "</div>"
      ],
      "text/plain": [
       "        subreddit                                              title  \\\n",
       "0  wallstreetbets                                             [help]   \n",
       "1  wallstreetbets                       [hyzn, preparing, squeeze, ]   \n",
       "2  wallstreetbets                                             [meta]   \n",
       "3  wallstreetbets       [camping, world, holdings, moon, discussion]   \n",
       "4  wallstreetbets  [camping, world, holdings, moon, discussion, m...   \n",
       "5  wallstreetbets                             [trade, hkex, america]   \n",
       "6  wallstreetbets                                              [ava]   \n",
       "7  wallstreetbets     [come, one, talking, camping, world, holdings]   \n",
       "8  wallstreetbets             [cim, last, mos, gt, upside, dividend]   \n",
       "9  wallstreetbets       [quick, options, question, retard, addition]   \n",
       "\n",
       "                                            selftext  created_utc  \n",
       "0  [sold, car, want, know, double, money, finance...   1635955282  \n",
       "1  [hyzn, still, yet, recover, weak, short, repor...   1635955250  \n",
       "2  [cut, chase, meta, meta, outrageously, underva...   1635955106  \n",
       "3  [beat, top, bottom, line, healthy, amount, con...   1635954989  \n",
       "4  [beat, top, bottom, line, healthy, amount, con...   1635954885  \n",
       "5  [got, stocks, got, delisted, nadaq, got, adrs,...   1635954875  \n",
       "6  [manipulating, ava, long, time, trading, since...   1635954602  \n",
       "7  [beat, top, bottom, line, healthy, amount, con...   1635954580  \n",
       "8  [check, cim, tear, last, mos, crushed, earning...   1635954458  \n",
       "9  [money, call, options, still, lose, money, clo...   1635954187  "
      ]
     },
     "execution_count": 36,
     "metadata": {},
     "output_type": "execute_result"
    }
   ],
   "source": [
    "df1.head(10)"
   ]
  },
  {
   "cell_type": "code",
   "execution_count": 37,
   "id": "80ffbb14-2bdd-4e73-8281-3bb20270bc05",
   "metadata": {},
   "outputs": [
    {
     "data": {
      "text/plain": [
       "['cut', 'chase', 'meta', 'meta', 'outrageously', 'undervalued']"
      ]
     },
     "execution_count": 37,
     "metadata": {},
     "output_type": "execute_result"
    }
   ],
   "source": [
    "df1.iloc[2]['selftext'][:6]"
   ]
  },
  {
   "cell_type": "markdown",
   "id": "889fde12-7819-4323-aafa-b0621d330094",
   "metadata": {},
   "source": [
    "### Lemmatizing the tokened columns. "
   ]
  },
  {
   "cell_type": "code",
   "execution_count": 38,
   "id": "9b9341b7-5cb9-4336-8036-bcd8dd4b5ea0",
   "metadata": {},
   "outputs": [],
   "source": [
    "lemmatizer = WordNetLemmatizer()"
   ]
  },
  {
   "cell_type": "code",
   "execution_count": 39,
   "id": "fb468237-5b8b-4b2d-8494-f8b1fdd031ca",
   "metadata": {},
   "outputs": [],
   "source": [
    "def lemmatize_text(text):\n",
    "    return [lemmatizer.lemmatize(w) for w in text]"
   ]
  },
  {
   "cell_type": "code",
   "execution_count": 40,
   "id": "8f53d1d6-6e34-4653-b1a5-acc12af2b9a5",
   "metadata": {},
   "outputs": [],
   "source": [
    "df1['title_lem'] = df1['title'].apply(lemmatize_text)"
   ]
  },
  {
   "cell_type": "code",
   "execution_count": 41,
   "id": "2e97802d-7efc-45d0-a94c-dc57a15400d2",
   "metadata": {},
   "outputs": [],
   "source": [
    "df1['selftext_lem'] = df1['selftext'].apply(lemmatize_text)"
   ]
  },
  {
   "cell_type": "code",
   "execution_count": 42,
   "id": "ecb35cf5-6f04-40bd-9397-b2c0c2017389",
   "metadata": {},
   "outputs": [
    {
     "data": {
      "text/html": [
       "<div>\n",
       "<style scoped>\n",
       "    .dataframe tbody tr th:only-of-type {\n",
       "        vertical-align: middle;\n",
       "    }\n",
       "\n",
       "    .dataframe tbody tr th {\n",
       "        vertical-align: top;\n",
       "    }\n",
       "\n",
       "    .dataframe thead th {\n",
       "        text-align: right;\n",
       "    }\n",
       "</style>\n",
       "<table border=\"1\" class=\"dataframe\">\n",
       "  <thead>\n",
       "    <tr style=\"text-align: right;\">\n",
       "      <th></th>\n",
       "      <th>subreddit</th>\n",
       "      <th>title</th>\n",
       "      <th>selftext</th>\n",
       "      <th>created_utc</th>\n",
       "      <th>title_lem</th>\n",
       "      <th>selftext_lem</th>\n",
       "    </tr>\n",
       "  </thead>\n",
       "  <tbody>\n",
       "    <tr>\n",
       "      <th>0</th>\n",
       "      <td>wallstreetbets</td>\n",
       "      <td>[help]</td>\n",
       "      <td>[sold, car, want, know, double, money, finance...</td>\n",
       "      <td>1635955282</td>\n",
       "      <td>[help]</td>\n",
       "      <td>[sold, car, want, know, double, money, finance...</td>\n",
       "    </tr>\n",
       "    <tr>\n",
       "      <th>1</th>\n",
       "      <td>wallstreetbets</td>\n",
       "      <td>[hyzn, preparing, squeeze, ]</td>\n",
       "      <td>[hyzn, still, yet, recover, weak, short, repor...</td>\n",
       "      <td>1635955250</td>\n",
       "      <td>[hyzn, preparing, squeeze, ]</td>\n",
       "      <td>[hyzn, still, yet, recover, weak, short, repor...</td>\n",
       "    </tr>\n",
       "    <tr>\n",
       "      <th>2</th>\n",
       "      <td>wallstreetbets</td>\n",
       "      <td>[meta]</td>\n",
       "      <td>[cut, chase, meta, meta, outrageously, underva...</td>\n",
       "      <td>1635955106</td>\n",
       "      <td>[meta]</td>\n",
       "      <td>[cut, chase, meta, meta, outrageously, underva...</td>\n",
       "    </tr>\n",
       "    <tr>\n",
       "      <th>3</th>\n",
       "      <td>wallstreetbets</td>\n",
       "      <td>[camping, world, holdings, moon, discussion]</td>\n",
       "      <td>[beat, top, bottom, line, healthy, amount, con...</td>\n",
       "      <td>1635954989</td>\n",
       "      <td>[camping, world, holding, moon, discussion]</td>\n",
       "      <td>[beat, top, bottom, line, healthy, amount, con...</td>\n",
       "    </tr>\n",
       "    <tr>\n",
       "      <th>4</th>\n",
       "      <td>wallstreetbets</td>\n",
       "      <td>[camping, world, holdings, moon, discussion, m...</td>\n",
       "      <td>[beat, top, bottom, line, healthy, amount, con...</td>\n",
       "      <td>1635954885</td>\n",
       "      <td>[camping, world, holding, moon, discussion, ma...</td>\n",
       "      <td>[beat, top, bottom, line, healthy, amount, con...</td>\n",
       "    </tr>\n",
       "  </tbody>\n",
       "</table>\n",
       "</div>"
      ],
      "text/plain": [
       "        subreddit                                              title  \\\n",
       "0  wallstreetbets                                             [help]   \n",
       "1  wallstreetbets                       [hyzn, preparing, squeeze, ]   \n",
       "2  wallstreetbets                                             [meta]   \n",
       "3  wallstreetbets       [camping, world, holdings, moon, discussion]   \n",
       "4  wallstreetbets  [camping, world, holdings, moon, discussion, m...   \n",
       "\n",
       "                                            selftext  created_utc  \\\n",
       "0  [sold, car, want, know, double, money, finance...   1635955282   \n",
       "1  [hyzn, still, yet, recover, weak, short, repor...   1635955250   \n",
       "2  [cut, chase, meta, meta, outrageously, underva...   1635955106   \n",
       "3  [beat, top, bottom, line, healthy, amount, con...   1635954989   \n",
       "4  [beat, top, bottom, line, healthy, amount, con...   1635954885   \n",
       "\n",
       "                                           title_lem  \\\n",
       "0                                             [help]   \n",
       "1                       [hyzn, preparing, squeeze, ]   \n",
       "2                                             [meta]   \n",
       "3        [camping, world, holding, moon, discussion]   \n",
       "4  [camping, world, holding, moon, discussion, ma...   \n",
       "\n",
       "                                        selftext_lem  \n",
       "0  [sold, car, want, know, double, money, finance...  \n",
       "1  [hyzn, still, yet, recover, weak, short, repor...  \n",
       "2  [cut, chase, meta, meta, outrageously, underva...  \n",
       "3  [beat, top, bottom, line, healthy, amount, con...  \n",
       "4  [beat, top, bottom, line, healthy, amount, con...  "
      ]
     },
     "execution_count": 42,
     "metadata": {},
     "output_type": "execute_result"
    }
   ],
   "source": [
    "df1.head()"
   ]
  },
  {
   "cell_type": "code",
   "execution_count": 43,
   "id": "39fca881-488a-422a-ac79-2d263f8c02ee",
   "metadata": {},
   "outputs": [
    {
     "data": {
      "text/plain": [
       "['cut', 'chase', 'meta', 'meta', 'outrageously', 'undervalued']"
      ]
     },
     "execution_count": 43,
     "metadata": {},
     "output_type": "execute_result"
    }
   ],
   "source": [
    "df1.iloc[2]['selftext'][:6]"
   ]
  },
  {
   "cell_type": "code",
   "execution_count": 44,
   "id": "0ac50dfb-5ed2-478f-88ad-a3b4333619c5",
   "metadata": {},
   "outputs": [
    {
     "data": {
      "text/plain": [
       "0"
      ]
     },
     "execution_count": 44,
     "metadata": {},
     "output_type": "execute_result"
    }
   ],
   "source": [
    "len(df1.iloc[5252]['selftext'])- len(df1.iloc[5252]['selftext_lem'])"
   ]
  },
  {
   "cell_type": "markdown",
   "id": "880b9e1c-56b5-49b1-9eb9-736db321c038",
   "metadata": {},
   "source": [
    "### Get word count and length of title and selfttext. "
   ]
  },
  {
   "cell_type": "code",
   "execution_count": 45,
   "id": "8772bf2f-0864-4b60-9941-d4e2acbb4ae3",
   "metadata": {},
   "outputs": [],
   "source": [
    "df1['title_word_count'] = df1['title_lem'].apply(lambda x: len(x))"
   ]
  },
  {
   "cell_type": "code",
   "execution_count": 46,
   "id": "5191299b-b5ef-4b2b-ba92-bf2d102a48cd",
   "metadata": {},
   "outputs": [],
   "source": [
    "df1['selftext_word_count'] = df1['selftext_lem'].apply(lambda x: len(x))"
   ]
  },
  {
   "cell_type": "code",
   "execution_count": 47,
   "id": "281e6051-6688-4144-909b-1318fe155ed4",
   "metadata": {},
   "outputs": [],
   "source": [
    "def char_counts(string):\n",
    "    counter = 0\n",
    "    for i in string:\n",
    "        for char in i:\n",
    "            counter +=1\n",
    "    return counter"
   ]
  },
  {
   "cell_type": "code",
   "execution_count": 48,
   "id": "753072ad-2b5b-4a7d-857b-237ba71b1bf4",
   "metadata": {},
   "outputs": [],
   "source": [
    "df1['title_char_count']= df1['title_lem'].map(char_counts)"
   ]
  },
  {
   "cell_type": "code",
   "execution_count": 49,
   "id": "bb532f64-2960-404d-9cfc-7ef06d011f7b",
   "metadata": {},
   "outputs": [],
   "source": [
    "df1['selftext_char_count'] = df1['selftext_lem'].map(char_counts)"
   ]
  },
  {
   "cell_type": "code",
   "execution_count": 53,
   "id": "2dfb9d2a-8656-4ffb-8ff5-f466b23b72f9",
   "metadata": {},
   "outputs": [
    {
     "data": {
      "text/plain": [
       "4714304"
      ]
     },
     "execution_count": 53,
     "metadata": {},
     "output_type": "execute_result"
    }
   ],
   "source": [
    "df1['selftext_word_count'].sum()\n"
   ]
  },
  {
   "cell_type": "markdown",
   "id": "defa9441-a746-4264-b3d8-eee1efdf6a5a",
   "metadata": {},
   "source": [
    "## Binarize target variable\n",
    "------\n",
    "Since we will want to know if a post comes from the spurious WSB, r/wallstreetbets will be our target and r/stocks set to null. "
   ]
  },
  {
   "cell_type": "code",
   "execution_count": 176,
   "id": "f5da8eec-7ab4-42dc-9cc5-dbd9d3f8d736",
   "metadata": {},
   "outputs": [],
   "source": [
    "df1['subreddit'] = df1['subreddit'].apply(lambda x: 1 if x=='wallstreetbets' else 0)"
   ]
  },
  {
   "cell_type": "code",
   "execution_count": 177,
   "id": "00821eac-c177-44bd-b220-d8e3f30dd0d2",
   "metadata": {},
   "outputs": [
    {
     "data": {
      "text/html": [
       "<div>\n",
       "<style scoped>\n",
       "    .dataframe tbody tr th:only-of-type {\n",
       "        vertical-align: middle;\n",
       "    }\n",
       "\n",
       "    .dataframe tbody tr th {\n",
       "        vertical-align: top;\n",
       "    }\n",
       "\n",
       "    .dataframe thead th {\n",
       "        text-align: right;\n",
       "    }\n",
       "</style>\n",
       "<table border=\"1\" class=\"dataframe\">\n",
       "  <thead>\n",
       "    <tr style=\"text-align: right;\">\n",
       "      <th></th>\n",
       "      <th>subreddit</th>\n",
       "      <th>title</th>\n",
       "      <th>selftext</th>\n",
       "      <th>created_utc</th>\n",
       "      <th>title_lem</th>\n",
       "      <th>selftext_lem</th>\n",
       "      <th>title_word_count</th>\n",
       "      <th>selftext_word_count</th>\n",
       "      <th>title_char_count</th>\n",
       "      <th>selftext_char_count</th>\n",
       "    </tr>\n",
       "  </thead>\n",
       "  <tbody>\n",
       "    <tr>\n",
       "      <th>0</th>\n",
       "      <td>1</td>\n",
       "      <td>[help]</td>\n",
       "      <td>[sold, car, want, know, double, money, finance...</td>\n",
       "      <td>1635955282</td>\n",
       "      <td>[help]</td>\n",
       "      <td>[sold, car, want, know, double, money, finance...</td>\n",
       "      <td>1</td>\n",
       "      <td>16</td>\n",
       "      <td>4</td>\n",
       "      <td>75</td>\n",
       "    </tr>\n",
       "    <tr>\n",
       "      <th>1</th>\n",
       "      <td>1</td>\n",
       "      <td>[hyzn, preparing, squeeze, ]</td>\n",
       "      <td>[hyzn, still, yet, recover, weak, short, repor...</td>\n",
       "      <td>1635955250</td>\n",
       "      <td>[hyzn, preparing, squeeze, ]</td>\n",
       "      <td>[hyzn, still, yet, recover, weak, short, repor...</td>\n",
       "      <td>4</td>\n",
       "      <td>20</td>\n",
       "      <td>20</td>\n",
       "      <td>116</td>\n",
       "    </tr>\n",
       "  </tbody>\n",
       "</table>\n",
       "</div>"
      ],
      "text/plain": [
       "   subreddit                         title  \\\n",
       "0          1                        [help]   \n",
       "1          1  [hyzn, preparing, squeeze, ]   \n",
       "\n",
       "                                            selftext  created_utc  \\\n",
       "0  [sold, car, want, know, double, money, finance...   1635955282   \n",
       "1  [hyzn, still, yet, recover, weak, short, repor...   1635955250   \n",
       "\n",
       "                      title_lem  \\\n",
       "0                        [help]   \n",
       "1  [hyzn, preparing, squeeze, ]   \n",
       "\n",
       "                                        selftext_lem  title_word_count  \\\n",
       "0  [sold, car, want, know, double, money, finance...                 1   \n",
       "1  [hyzn, still, yet, recover, weak, short, repor...                 4   \n",
       "\n",
       "   selftext_word_count  title_char_count  selftext_char_count  \n",
       "0                   16                 4                   75  \n",
       "1                   20                20                  116  "
      ]
     },
     "execution_count": 177,
     "metadata": {},
     "output_type": "execute_result"
    }
   ],
   "source": [
    "df1.head(2)"
   ]
  },
  {
   "cell_type": "code",
   "execution_count": 178,
   "id": "eacaa3d3-b351-433d-a340-c9fce0aba333",
   "metadata": {},
   "outputs": [
    {
     "data": {
      "text/html": [
       "<div>\n",
       "<style scoped>\n",
       "    .dataframe tbody tr th:only-of-type {\n",
       "        vertical-align: middle;\n",
       "    }\n",
       "\n",
       "    .dataframe tbody tr th {\n",
       "        vertical-align: top;\n",
       "    }\n",
       "\n",
       "    .dataframe thead th {\n",
       "        text-align: right;\n",
       "    }\n",
       "</style>\n",
       "<table border=\"1\" class=\"dataframe\">\n",
       "  <thead>\n",
       "    <tr style=\"text-align: right;\">\n",
       "      <th></th>\n",
       "      <th>subreddit</th>\n",
       "      <th>title</th>\n",
       "      <th>selftext</th>\n",
       "      <th>created_utc</th>\n",
       "      <th>title_lem</th>\n",
       "      <th>selftext_lem</th>\n",
       "      <th>title_word_count</th>\n",
       "      <th>selftext_word_count</th>\n",
       "      <th>title_char_count</th>\n",
       "      <th>selftext_char_count</th>\n",
       "    </tr>\n",
       "  </thead>\n",
       "  <tbody>\n",
       "    <tr>\n",
       "      <th>49998</th>\n",
       "      <td>0</td>\n",
       "      <td>[importing, portfolio, data, yahoo, finance, i...</td>\n",
       "      <td>[hello, im, importing, portfolio, data, yahoo,...</td>\n",
       "      <td>1609609458</td>\n",
       "      <td>[importing, portfolio, data, yahoo, finance, i...</td>\n",
       "      <td>[hello, im, importing, portfolio, data, yahoo,...</td>\n",
       "      <td>10</td>\n",
       "      <td>43</td>\n",
       "      <td>67</td>\n",
       "      <td>241</td>\n",
       "    </tr>\n",
       "    <tr>\n",
       "      <th>49999</th>\n",
       "      <td>0</td>\n",
       "      <td>[arent, guys, ever, worried, youre, hoeshiner]</td>\n",
       "      <td>[think, joseph, kennedys, famous, hoeshiner, l...</td>\n",
       "      <td>1609608970</td>\n",
       "      <td>[arent, guy, ever, worried, youre, hoeshiner]</td>\n",
       "      <td>[think, joseph, kennedy, famous, hoeshiner, li...</td>\n",
       "      <td>6</td>\n",
       "      <td>47</td>\n",
       "      <td>33</td>\n",
       "      <td>307</td>\n",
       "    </tr>\n",
       "  </tbody>\n",
       "</table>\n",
       "</div>"
      ],
      "text/plain": [
       "       subreddit                                              title  \\\n",
       "49998          0  [importing, portfolio, data, yahoo, finance, i...   \n",
       "49999          0     [arent, guys, ever, worried, youre, hoeshiner]   \n",
       "\n",
       "                                                selftext  created_utc  \\\n",
       "49998  [hello, im, importing, portfolio, data, yahoo,...   1609609458   \n",
       "49999  [think, joseph, kennedys, famous, hoeshiner, l...   1609608970   \n",
       "\n",
       "                                               title_lem  \\\n",
       "49998  [importing, portfolio, data, yahoo, finance, i...   \n",
       "49999      [arent, guy, ever, worried, youre, hoeshiner]   \n",
       "\n",
       "                                            selftext_lem  title_word_count  \\\n",
       "49998  [hello, im, importing, portfolio, data, yahoo,...                10   \n",
       "49999  [think, joseph, kennedy, famous, hoeshiner, li...                 6   \n",
       "\n",
       "       selftext_word_count  title_char_count  selftext_char_count  \n",
       "49998                   43                67                  241  \n",
       "49999                   47                33                  307  "
      ]
     },
     "execution_count": 178,
     "metadata": {},
     "output_type": "execute_result"
    }
   ],
   "source": [
    "df1.tail(2)"
   ]
  },
  {
   "cell_type": "markdown",
   "id": "10a63069-1725-40c9-8a7c-d022afae1e9c",
   "metadata": {},
   "source": [
    "# Save cleaned and prepared data"
   ]
  },
  {
   "cell_type": "code",
   "execution_count": 180,
   "id": "9b5091d1-50f3-46b2-b8a8-74d698a6c722",
   "metadata": {},
   "outputs": [],
   "source": [
    "df1.to_csv('../data/reddit25k_clean.csv', index = False)"
   ]
  },
  {
   "cell_type": "markdown",
   "id": "74aec2c1-a51e-4432-a9dc-926d013dd603",
   "metadata": {},
   "source": [
    "# EDA\n",
    "---\n",
    "Exploring the data set looking for trends that will help identify features that we should care about for our models. "
   ]
  },
  {
   "cell_type": "code",
   "execution_count": 181,
   "id": "73f681f2-3205-4664-a200-53132c9f85c7",
   "metadata": {},
   "outputs": [],
   "source": [
    "import seaborn as sns\n",
    "import matplotlib as mpl\n",
    "import matplotlib.pyplot as plt"
   ]
  },
  {
   "cell_type": "markdown",
   "id": "848b4c1c-954a-4737-b135-f97720bbd061",
   "metadata": {},
   "source": [
    "## Balance of target values"
   ]
  },
  {
   "cell_type": "code",
   "execution_count": 182,
   "id": "19172073-bb41-4060-a6af-721b7fc6a1b6",
   "metadata": {},
   "outputs": [
    {
     "data": {
      "text/plain": [
       "1    0.5\n",
       "0    0.5\n",
       "Name: subreddit, dtype: float64"
      ]
     },
     "execution_count": 182,
     "metadata": {},
     "output_type": "execute_result"
    }
   ],
   "source": [
    "#balance should be 50/50\n",
    "df1['subreddit'].value_counts(normalize = True)"
   ]
  },
  {
   "cell_type": "markdown",
   "id": "b5d7a62a-278f-4629-9886-c8c36d8af9a7",
   "metadata": {},
   "source": [
    "## Top 10 longest posts by lemmatized word count"
   ]
  },
  {
   "cell_type": "code",
   "execution_count": 183,
   "id": "6da8997d-44dd-4378-9412-acac1a7f6186",
   "metadata": {},
   "outputs": [
    {
     "data": {
      "text/html": [
       "<div>\n",
       "<style scoped>\n",
       "    .dataframe tbody tr th:only-of-type {\n",
       "        vertical-align: middle;\n",
       "    }\n",
       "\n",
       "    .dataframe tbody tr th {\n",
       "        vertical-align: top;\n",
       "    }\n",
       "\n",
       "    .dataframe thead th {\n",
       "        text-align: right;\n",
       "    }\n",
       "</style>\n",
       "<table border=\"1\" class=\"dataframe\">\n",
       "  <thead>\n",
       "    <tr style=\"text-align: right;\">\n",
       "      <th></th>\n",
       "      <th>subreddit</th>\n",
       "      <th>title</th>\n",
       "      <th>selftext</th>\n",
       "      <th>created_utc</th>\n",
       "      <th>title_lem</th>\n",
       "      <th>selftext_lem</th>\n",
       "      <th>title_word_count</th>\n",
       "      <th>selftext_word_count</th>\n",
       "      <th>title_char_count</th>\n",
       "      <th>selftext_char_count</th>\n",
       "    </tr>\n",
       "  </thead>\n",
       "  <tbody>\n",
       "    <tr>\n",
       "      <th>19805</th>\n",
       "      <td>1</td>\n",
       "      <td>[necesitamos, subir, hood, hoy, es, viernes, e...</td>\n",
       "      <td>[necesitamos, subir, hood, hoy, es, viernes, e...</td>\n",
       "      <td>1627639418</td>\n",
       "      <td>[necesitamos, subir, hood, hoy, e, viernes, el...</td>\n",
       "      <td>[necesitamos, subir, hood, hoy, e, viernes, el...</td>\n",
       "      <td>48</td>\n",
       "      <td>52</td>\n",
       "      <td>218</td>\n",
       "      <td>234</td>\n",
       "    </tr>\n",
       "    <tr>\n",
       "      <th>24212</th>\n",
       "      <td>1</td>\n",
       "      <td>[x, e, l, biggest, hort, queeze, history, high...</td>\n",
       "      <td>[x, e, l, biggest, hort, queeze, history, high...</td>\n",
       "      <td>1626123550</td>\n",
       "      <td>[x, e, l, biggest, hort, queeze, history, high...</td>\n",
       "      <td>[x, e, l, biggest, hort, queeze, history, high...</td>\n",
       "      <td>40</td>\n",
       "      <td>35</td>\n",
       "      <td>144</td>\n",
       "      <td>125</td>\n",
       "    </tr>\n",
       "    <tr>\n",
       "      <th>5018</th>\n",
       "      <td>1</td>\n",
       "      <td>[py, little, eye, something, red, py, due, cra...</td>\n",
       "      <td>[py, little, eye, something, red, py, due, cra...</td>\n",
       "      <td>1633873758</td>\n",
       "      <td>[py, little, eye, something, red, py, due, cra...</td>\n",
       "      <td>[py, little, eye, something, red, py, due, cra...</td>\n",
       "      <td>39</td>\n",
       "      <td>84</td>\n",
       "      <td>217</td>\n",
       "      <td>469</td>\n",
       "    </tr>\n",
       "    <tr>\n",
       "      <th>5140</th>\n",
       "      <td>1</td>\n",
       "      <td>[ultimate, ater, aterian, due, diligence, dd, ...</td>\n",
       "      <td>[credits, uanonfthehfs, making, wonderful, dd,...</td>\n",
       "      <td>1633757285</td>\n",
       "      <td>[ultimate, ater, aterian, due, diligence, dd, ...</td>\n",
       "      <td>[credit, uanonfthehfs, making, wonderful, dd, ...</td>\n",
       "      <td>37</td>\n",
       "      <td>1268</td>\n",
       "      <td>218</td>\n",
       "      <td>7258</td>\n",
       "    </tr>\n",
       "    <tr>\n",
       "      <th>10428</th>\n",
       "      <td>1</td>\n",
       "      <td>[fat, finger, aialgo, day, insane, put, option...</td>\n",
       "      <td>[remember, march, nasdaq, took, point, dive, a...</td>\n",
       "      <td>1631331243</td>\n",
       "      <td>[fat, finger, aialgo, day, insane, put, option...</td>\n",
       "      <td>[remember, march, nasdaq, took, point, dive, a...</td>\n",
       "      <td>37</td>\n",
       "      <td>51</td>\n",
       "      <td>180</td>\n",
       "      <td>274</td>\n",
       "    </tr>\n",
       "    <tr>\n",
       "      <th>24209</th>\n",
       "      <td>1</td>\n",
       "      <td>[x, e, l, biggest, hort, queeze, history, high...</td>\n",
       "      <td>[x, e, l, biggest, hort, queeze, history, high...</td>\n",
       "      <td>1626123685</td>\n",
       "      <td>[x, e, l, biggest, hort, queeze, history, high...</td>\n",
       "      <td>[x, e, l, biggest, hort, queeze, history, high...</td>\n",
       "      <td>35</td>\n",
       "      <td>35</td>\n",
       "      <td>125</td>\n",
       "      <td>125</td>\n",
       "    </tr>\n",
       "    <tr>\n",
       "      <th>5138</th>\n",
       "      <td>1</td>\n",
       "      <td>[double, due, diligence, dd, growth, financial...</td>\n",
       "      <td>[brought, uanonfthehfs, first, part, amazing, ...</td>\n",
       "      <td>1633758954</td>\n",
       "      <td>[double, due, diligence, dd, growth, financial...</td>\n",
       "      <td>[brought, uanonfthehfs, first, part, amazing, ...</td>\n",
       "      <td>35</td>\n",
       "      <td>2315</td>\n",
       "      <td>205</td>\n",
       "      <td>13146</td>\n",
       "    </tr>\n",
       "    <tr>\n",
       "      <th>24211</th>\n",
       "      <td>1</td>\n",
       "      <td>[x, e, l, biggest, hort, queeze, history, high...</td>\n",
       "      <td>[x, e, l, biggest, hort, queeze, history, high...</td>\n",
       "      <td>1626123645</td>\n",
       "      <td>[x, e, l, biggest, hort, queeze, history, high...</td>\n",
       "      <td>[x, e, l, biggest, hort, queeze, history, high...</td>\n",
       "      <td>35</td>\n",
       "      <td>35</td>\n",
       "      <td>125</td>\n",
       "      <td>125</td>\n",
       "    </tr>\n",
       "    <tr>\n",
       "      <th>13458</th>\n",
       "      <td>1</td>\n",
       "      <td>[rise, covid, ua, another, hurricane, storms, ...</td>\n",
       "      <td>[retail, sales, start, soar, major, covid, iss...</td>\n",
       "      <td>1630165564</td>\n",
       "      <td>[rise, covid, ua, another, hurricane, storm, r...</td>\n",
       "      <td>[retail, sale, start, soar, major, covid, issu...</td>\n",
       "      <td>34</td>\n",
       "      <td>14</td>\n",
       "      <td>171</td>\n",
       "      <td>69</td>\n",
       "    </tr>\n",
       "    <tr>\n",
       "      <th>21377</th>\n",
       "      <td>1</td>\n",
       "      <td>[uaa, dd, update, july, im, able, reply, comme...</td>\n",
       "      <td>[problem, attempting, analyze, companies, impr...</td>\n",
       "      <td>1627046917</td>\n",
       "      <td>[uaa, dd, update, july, im, able, reply, comme...</td>\n",
       "      <td>[problem, attempting, analyze, company, improv...</td>\n",
       "      <td>34</td>\n",
       "      <td>266</td>\n",
       "      <td>162</td>\n",
       "      <td>1710</td>\n",
       "    </tr>\n",
       "  </tbody>\n",
       "</table>\n",
       "</div>"
      ],
      "text/plain": [
       "       subreddit                                              title  \\\n",
       "19805          1  [necesitamos, subir, hood, hoy, es, viernes, e...   \n",
       "24212          1  [x, e, l, biggest, hort, queeze, history, high...   \n",
       "5018           1  [py, little, eye, something, red, py, due, cra...   \n",
       "5140           1  [ultimate, ater, aterian, due, diligence, dd, ...   \n",
       "10428          1  [fat, finger, aialgo, day, insane, put, option...   \n",
       "24209          1  [x, e, l, biggest, hort, queeze, history, high...   \n",
       "5138           1  [double, due, diligence, dd, growth, financial...   \n",
       "24211          1  [x, e, l, biggest, hort, queeze, history, high...   \n",
       "13458          1  [rise, covid, ua, another, hurricane, storms, ...   \n",
       "21377          1  [uaa, dd, update, july, im, able, reply, comme...   \n",
       "\n",
       "                                                selftext  created_utc  \\\n",
       "19805  [necesitamos, subir, hood, hoy, es, viernes, e...   1627639418   \n",
       "24212  [x, e, l, biggest, hort, queeze, history, high...   1626123550   \n",
       "5018   [py, little, eye, something, red, py, due, cra...   1633873758   \n",
       "5140   [credits, uanonfthehfs, making, wonderful, dd,...   1633757285   \n",
       "10428  [remember, march, nasdaq, took, point, dive, a...   1631331243   \n",
       "24209  [x, e, l, biggest, hort, queeze, history, high...   1626123685   \n",
       "5138   [brought, uanonfthehfs, first, part, amazing, ...   1633758954   \n",
       "24211  [x, e, l, biggest, hort, queeze, history, high...   1626123645   \n",
       "13458  [retail, sales, start, soar, major, covid, iss...   1630165564   \n",
       "21377  [problem, attempting, analyze, companies, impr...   1627046917   \n",
       "\n",
       "                                               title_lem  \\\n",
       "19805  [necesitamos, subir, hood, hoy, e, viernes, el...   \n",
       "24212  [x, e, l, biggest, hort, queeze, history, high...   \n",
       "5018   [py, little, eye, something, red, py, due, cra...   \n",
       "5140   [ultimate, ater, aterian, due, diligence, dd, ...   \n",
       "10428  [fat, finger, aialgo, day, insane, put, option...   \n",
       "24209  [x, e, l, biggest, hort, queeze, history, high...   \n",
       "5138   [double, due, diligence, dd, growth, financial...   \n",
       "24211  [x, e, l, biggest, hort, queeze, history, high...   \n",
       "13458  [rise, covid, ua, another, hurricane, storm, r...   \n",
       "21377  [uaa, dd, update, july, im, able, reply, comme...   \n",
       "\n",
       "                                            selftext_lem  title_word_count  \\\n",
       "19805  [necesitamos, subir, hood, hoy, e, viernes, el...                48   \n",
       "24212  [x, e, l, biggest, hort, queeze, history, high...                40   \n",
       "5018   [py, little, eye, something, red, py, due, cra...                39   \n",
       "5140   [credit, uanonfthehfs, making, wonderful, dd, ...                37   \n",
       "10428  [remember, march, nasdaq, took, point, dive, a...                37   \n",
       "24209  [x, e, l, biggest, hort, queeze, history, high...                35   \n",
       "5138   [brought, uanonfthehfs, first, part, amazing, ...                35   \n",
       "24211  [x, e, l, biggest, hort, queeze, history, high...                35   \n",
       "13458  [retail, sale, start, soar, major, covid, issu...                34   \n",
       "21377  [problem, attempting, analyze, company, improv...                34   \n",
       "\n",
       "       selftext_word_count  title_char_count  selftext_char_count  \n",
       "19805                   52               218                  234  \n",
       "24212                   35               144                  125  \n",
       "5018                    84               217                  469  \n",
       "5140                  1268               218                 7258  \n",
       "10428                   51               180                  274  \n",
       "24209                   35               125                  125  \n",
       "5138                  2315               205                13146  \n",
       "24211                   35               125                  125  \n",
       "13458                   14               171                   69  \n",
       "21377                  266               162                 1710  "
      ]
     },
     "execution_count": 183,
     "metadata": {},
     "output_type": "execute_result"
    }
   ],
   "source": [
    "df1.sort_values(by = 'title_word_count', ascending = False).head(10)"
   ]
  },
  {
   "cell_type": "code",
   "execution_count": 184,
   "id": "4679ab9e-f3a9-4231-ba1c-3ba1e57726c5",
   "metadata": {},
   "outputs": [
    {
     "data": {
      "text/html": [
       "<div>\n",
       "<style scoped>\n",
       "    .dataframe tbody tr th:only-of-type {\n",
       "        vertical-align: middle;\n",
       "    }\n",
       "\n",
       "    .dataframe tbody tr th {\n",
       "        vertical-align: top;\n",
       "    }\n",
       "\n",
       "    .dataframe thead th {\n",
       "        text-align: right;\n",
       "    }\n",
       "</style>\n",
       "<table border=\"1\" class=\"dataframe\">\n",
       "  <thead>\n",
       "    <tr style=\"text-align: right;\">\n",
       "      <th></th>\n",
       "      <th>subreddit</th>\n",
       "      <th>title</th>\n",
       "      <th>selftext</th>\n",
       "      <th>created_utc</th>\n",
       "      <th>title_lem</th>\n",
       "      <th>selftext_lem</th>\n",
       "      <th>title_word_count</th>\n",
       "      <th>selftext_word_count</th>\n",
       "      <th>title_char_count</th>\n",
       "      <th>selftext_char_count</th>\n",
       "    </tr>\n",
       "  </thead>\n",
       "  <tbody>\n",
       "    <tr>\n",
       "      <th>40603</th>\n",
       "      <td>0</td>\n",
       "      <td>[reasons, uperbullish, fastly]</td>\n",
       "      <td>[disclaimer, due, noimage, limitation, words, ...</td>\n",
       "      <td>1614309511</td>\n",
       "      <td>[reason, uperbullish, fastly]</td>\n",
       "      <td>[disclaimer, due, noimage, limitation, word, l...</td>\n",
       "      <td>3</td>\n",
       "      <td>3347</td>\n",
       "      <td>23</td>\n",
       "      <td>21759</td>\n",
       "    </tr>\n",
       "    <tr>\n",
       "      <th>35429</th>\n",
       "      <td>0</td>\n",
       "      <td>[wall, treet, week, ahead, trading, week, begi...</td>\n",
       "      <td>[good, unday, morning, rstocks, hope, everyone...</td>\n",
       "      <td>1620563758</td>\n",
       "      <td>[wall, treet, week, ahead, trading, week, begi...</td>\n",
       "      <td>[good, unday, morning, rstocks, hope, everyone...</td>\n",
       "      <td>8</td>\n",
       "      <td>3159</td>\n",
       "      <td>41</td>\n",
       "      <td>19043</td>\n",
       "    </tr>\n",
       "    <tr>\n",
       "      <th>8173</th>\n",
       "      <td>1</td>\n",
       "      <td>[rise, canoo, goev, jpow, printer, biden, ev, ...</td>\n",
       "      <td>[gather, around, folks, hope, made, gains, las...</td>\n",
       "      <td>1632240856</td>\n",
       "      <td>[rise, canoo, goev, jpow, printer, biden, ev, ...</td>\n",
       "      <td>[gather, around, folk, hope, made, gain, last,...</td>\n",
       "      <td>26</td>\n",
       "      <td>3150</td>\n",
       "      <td>171</td>\n",
       "      <td>19698</td>\n",
       "    </tr>\n",
       "    <tr>\n",
       "      <th>7935</th>\n",
       "      <td>1</td>\n",
       "      <td>[rise, canoo, goev, jpow, printer, biden, ev, ...</td>\n",
       "      <td>[gather, around, folks, hope, made, gains, las...</td>\n",
       "      <td>1632317355</td>\n",
       "      <td>[rise, canoo, goev, jpow, printer, biden, ev, ...</td>\n",
       "      <td>[gather, around, folk, hope, made, gain, last,...</td>\n",
       "      <td>26</td>\n",
       "      <td>3144</td>\n",
       "      <td>171</td>\n",
       "      <td>19611</td>\n",
       "    </tr>\n",
       "    <tr>\n",
       "      <th>15467</th>\n",
       "      <td>1</td>\n",
       "      <td>[behavioral, historical, finance, various, boo...</td>\n",
       "      <td>[behavioral, historical, finance, jason, zweig...</td>\n",
       "      <td>1629257453</td>\n",
       "      <td>[behavioral, historical, finance, various, boo...</td>\n",
       "      <td>[behavioral, historical, finance, jason, zweig...</td>\n",
       "      <td>19</td>\n",
       "      <td>3107</td>\n",
       "      <td>115</td>\n",
       "      <td>20421</td>\n",
       "    </tr>\n",
       "    <tr>\n",
       "      <th>5313</th>\n",
       "      <td>1</td>\n",
       "      <td>[rklb, rocket, lab, ua, could, nice, bear, tra...</td>\n",
       "      <td>[hort, borrow, fee, rate, hort, hares, availab...</td>\n",
       "      <td>1633688648</td>\n",
       "      <td>[rklb, rocket, lab, ua, could, nice, bear, tra...</td>\n",
       "      <td>[hort, borrow, fee, rate, hort, hare, availabi...</td>\n",
       "      <td>12</td>\n",
       "      <td>3064</td>\n",
       "      <td>54</td>\n",
       "      <td>22049</td>\n",
       "    </tr>\n",
       "    <tr>\n",
       "      <th>5311</th>\n",
       "      <td>1</td>\n",
       "      <td>[rklb, rocket, lab, ua, could, nice, bear, trap]</td>\n",
       "      <td>[hort, borrow, fee, rate, hort, hares, availab...</td>\n",
       "      <td>1633689326</td>\n",
       "      <td>[rklb, rocket, lab, ua, could, nice, bear, trap]</td>\n",
       "      <td>[hort, borrow, fee, rate, hort, hare, availabi...</td>\n",
       "      <td>8</td>\n",
       "      <td>3063</td>\n",
       "      <td>32</td>\n",
       "      <td>22046</td>\n",
       "    </tr>\n",
       "    <tr>\n",
       "      <th>41313</th>\n",
       "      <td>0</td>\n",
       "      <td>[wall, treet, week, ahead, trading, week, begi...</td>\n",
       "      <td>[good, friday, evening, rstocks, hope, everyon...</td>\n",
       "      <td>1613910452</td>\n",
       "      <td>[wall, treet, week, ahead, trading, week, begi...</td>\n",
       "      <td>[good, friday, evening, rstocks, hope, everyon...</td>\n",
       "      <td>8</td>\n",
       "      <td>3001</td>\n",
       "      <td>46</td>\n",
       "      <td>18364</td>\n",
       "    </tr>\n",
       "    <tr>\n",
       "      <th>35985</th>\n",
       "      <td>0</td>\n",
       "      <td>[wall, treet, week, ahead, trading, week, begi...</td>\n",
       "      <td>[goooooood, unday, morning, rstocks, hope, eve...</td>\n",
       "      <td>1619955904</td>\n",
       "      <td>[wall, treet, week, ahead, trading, week, begi...</td>\n",
       "      <td>[goooooood, unday, morning, rstocks, hope, eve...</td>\n",
       "      <td>8</td>\n",
       "      <td>2996</td>\n",
       "      <td>41</td>\n",
       "      <td>17965</td>\n",
       "    </tr>\n",
       "    <tr>\n",
       "      <th>42018</th>\n",
       "      <td>0</td>\n",
       "      <td>[huge, dd, electric, last, mile, olutions, cla...</td>\n",
       "      <td>[hello, first, dd, long, hope, enjoy, wanted, ...</td>\n",
       "      <td>1613418434</td>\n",
       "      <td>[huge, dd, electric, last, mile, olutions, cla...</td>\n",
       "      <td>[hello, first, dd, long, hope, enjoy, wanted, ...</td>\n",
       "      <td>9</td>\n",
       "      <td>2959</td>\n",
       "      <td>38</td>\n",
       "      <td>17935</td>\n",
       "    </tr>\n",
       "  </tbody>\n",
       "</table>\n",
       "</div>"
      ],
      "text/plain": [
       "       subreddit                                              title  \\\n",
       "40603          0                     [reasons, uperbullish, fastly]   \n",
       "35429          0  [wall, treet, week, ahead, trading, week, begi...   \n",
       "8173           1  [rise, canoo, goev, jpow, printer, biden, ev, ...   \n",
       "7935           1  [rise, canoo, goev, jpow, printer, biden, ev, ...   \n",
       "15467          1  [behavioral, historical, finance, various, boo...   \n",
       "5313           1  [rklb, rocket, lab, ua, could, nice, bear, tra...   \n",
       "5311           1   [rklb, rocket, lab, ua, could, nice, bear, trap]   \n",
       "41313          0  [wall, treet, week, ahead, trading, week, begi...   \n",
       "35985          0  [wall, treet, week, ahead, trading, week, begi...   \n",
       "42018          0  [huge, dd, electric, last, mile, olutions, cla...   \n",
       "\n",
       "                                                selftext  created_utc  \\\n",
       "40603  [disclaimer, due, noimage, limitation, words, ...   1614309511   \n",
       "35429  [good, unday, morning, rstocks, hope, everyone...   1620563758   \n",
       "8173   [gather, around, folks, hope, made, gains, las...   1632240856   \n",
       "7935   [gather, around, folks, hope, made, gains, las...   1632317355   \n",
       "15467  [behavioral, historical, finance, jason, zweig...   1629257453   \n",
       "5313   [hort, borrow, fee, rate, hort, hares, availab...   1633688648   \n",
       "5311   [hort, borrow, fee, rate, hort, hares, availab...   1633689326   \n",
       "41313  [good, friday, evening, rstocks, hope, everyon...   1613910452   \n",
       "35985  [goooooood, unday, morning, rstocks, hope, eve...   1619955904   \n",
       "42018  [hello, first, dd, long, hope, enjoy, wanted, ...   1613418434   \n",
       "\n",
       "                                               title_lem  \\\n",
       "40603                      [reason, uperbullish, fastly]   \n",
       "35429  [wall, treet, week, ahead, trading, week, begi...   \n",
       "8173   [rise, canoo, goev, jpow, printer, biden, ev, ...   \n",
       "7935   [rise, canoo, goev, jpow, printer, biden, ev, ...   \n",
       "15467  [behavioral, historical, finance, various, boo...   \n",
       "5313   [rklb, rocket, lab, ua, could, nice, bear, tra...   \n",
       "5311    [rklb, rocket, lab, ua, could, nice, bear, trap]   \n",
       "41313  [wall, treet, week, ahead, trading, week, begi...   \n",
       "35985  [wall, treet, week, ahead, trading, week, begi...   \n",
       "42018  [huge, dd, electric, last, mile, olutions, cla...   \n",
       "\n",
       "                                            selftext_lem  title_word_count  \\\n",
       "40603  [disclaimer, due, noimage, limitation, word, l...                 3   \n",
       "35429  [good, unday, morning, rstocks, hope, everyone...                 8   \n",
       "8173   [gather, around, folk, hope, made, gain, last,...                26   \n",
       "7935   [gather, around, folk, hope, made, gain, last,...                26   \n",
       "15467  [behavioral, historical, finance, jason, zweig...                19   \n",
       "5313   [hort, borrow, fee, rate, hort, hare, availabi...                12   \n",
       "5311   [hort, borrow, fee, rate, hort, hare, availabi...                 8   \n",
       "41313  [good, friday, evening, rstocks, hope, everyon...                 8   \n",
       "35985  [goooooood, unday, morning, rstocks, hope, eve...                 8   \n",
       "42018  [hello, first, dd, long, hope, enjoy, wanted, ...                 9   \n",
       "\n",
       "       selftext_word_count  title_char_count  selftext_char_count  \n",
       "40603                 3347                23                21759  \n",
       "35429                 3159                41                19043  \n",
       "8173                  3150               171                19698  \n",
       "7935                  3144               171                19611  \n",
       "15467                 3107               115                20421  \n",
       "5313                  3064                54                22049  \n",
       "5311                  3063                32                22046  \n",
       "41313                 3001                46                18364  \n",
       "35985                 2996                41                17965  \n",
       "42018                 2959                38                17935  "
      ]
     },
     "execution_count": 184,
     "metadata": {},
     "output_type": "execute_result"
    }
   ],
   "source": [
    "df1.sort_values(by = 'selftext_word_count', ascending = False).head(10)"
   ]
  },
  {
   "cell_type": "markdown",
   "id": "57e2e28c-a515-4fdb-bfd6-2e36dc930817",
   "metadata": {},
   "source": [
    "## Distributions of post lengths Title and Selftext\n",
    "---\n"
   ]
  },
  {
   "cell_type": "code",
   "execution_count": 185,
   "id": "b7d36bff-3b70-4e34-86e3-bbcf8ef3033b",
   "metadata": {},
   "outputs": [
    {
     "data": {
      "image/png": "[encoded data removed]",
      "text/plain": [
       "<Figure size 864x576 with 1 Axes>"
      ]
     },
     "metadata": {
      "needs_background": "light"
     },
     "output_type": "display_data"
    }
   ],
   "source": [
    "f, ax = plt.subplots(figsize=(12, 8))\n",
    "sns.despine(f)\n",
    "\n",
    "sns.histplot(\n",
    "    df1,bins = 50,\n",
    "    x=\"title_word_count\", hue=\"subreddit\",\n",
    "    multiple=\"stack\",\n",
    "    palette=\"bone\",\n",
    "    edgecolor=\".3\",\n",
    "    linewidth=.7,\n",
    "    log_scale=False,\n",
    ")\n",
    "plt.xlim(0, 35);\n",
    "plt.legend(title='Subreddit', loc='upper right', labels=['r/wallstreetbets', 'r/stocks'], fontsize = 'large');\n",
    "plt.title('Distribution of word counts in reddit titles, ex stop words.', size = 20);"
   ]
  },
  {
   "cell_type": "code",
   "execution_count": 186,
   "id": "d92a28a4-26d6-40e9-948e-2fd9a9aa6afc",
   "metadata": {},
   "outputs": [
    {
     "data": {
      "image/png": "[encoded data removed]",
      "text/plain": [
       "<Figure size 864x576 with 1 Axes>"
      ]
     },
     "metadata": {
      "needs_background": "light"
     },
     "output_type": "display_data"
    }
   ],
   "source": [
    "f, ax = plt.subplots(figsize=(12, 8))\n",
    "sns.despine(f)\n",
    "\n",
    "sns.histplot(\n",
    "    df1, bins = 500,\n",
    "    x=\"selftext_word_count\", hue=\"subreddit\",\n",
    "    multiple=\"stack\",\n",
    "    palette=\"bone\",\n",
    "    edgecolor=\".3\",\n",
    "    linewidth=.5,\n",
    "    log_scale=False,\n",
    ")\n",
    "plt.xlim(0, 350)\n",
    "plt.legend(title='Subreddit', loc='upper right', labels=['r/wallstreetbets', 'r/stocks'], fontsize = 'large');\n",
    "plt.title('Distribution of word counts in reddit selftext, ex stop words.', size = 20);"
   ]
  },
  {
   "cell_type": "markdown",
   "id": "35e7ab08-70bd-4c36-b121-abe3657bd20f",
   "metadata": {},
   "source": [
    "# VADER \n",
    "---\n",
    "I am investigating if we can make a good guess on origin of a post just by looking at their polarity.\n",
    "Are posts from r/WallStreetBets more on the negative side as it's reputation indicates? If so, can I quantify this and then make good guesses based on polarity?\n",
    "\n",
    "--The text being provided to VADER has been lowercased and reconfigured for lemmatizing prep. Punctuation was preserved, however, it is possible that it was over normalized when uppercase was removed and all contractions expanded.  \n"
   ]
  },
  {
   "cell_type": "code",
   "execution_count": 187,
   "id": "9feb8b00-8b67-436d-86db-3f078a1d3c88",
   "metadata": {},
   "outputs": [
    {
     "data": {
      "text/html": [
       "<div>\n",
       "<style scoped>\n",
       "    .dataframe tbody tr th:only-of-type {\n",
       "        vertical-align: middle;\n",
       "    }\n",
       "\n",
       "    .dataframe tbody tr th {\n",
       "        vertical-align: top;\n",
       "    }\n",
       "\n",
       "    .dataframe thead th {\n",
       "        text-align: right;\n",
       "    }\n",
       "</style>\n",
       "<table border=\"1\" class=\"dataframe\">\n",
       "  <thead>\n",
       "    <tr style=\"text-align: right;\">\n",
       "      <th></th>\n",
       "      <th>subreddit</th>\n",
       "      <th>title</th>\n",
       "      <th>selftext</th>\n",
       "      <th>created_utc</th>\n",
       "    </tr>\n",
       "  </thead>\n",
       "  <tbody>\n",
       "    <tr>\n",
       "      <th>0</th>\n",
       "      <td>wallstreetbets</td>\n",
       "      <td>help</td>\n",
       "      <td>i just sold my car for i want to know if can d...</td>\n",
       "      <td>1635955282</td>\n",
       "    </tr>\n",
       "    <tr>\n",
       "      <th>1</th>\n",
       "      <td>wallstreetbets</td>\n",
       "      <td>hyzn preparing for a squeeze…</td>\n",
       "      <td>hyzn still yet to recover from the weak short ...</td>\n",
       "      <td>1635955250</td>\n",
       "    </tr>\n",
       "    <tr>\n",
       "      <th>2</th>\n",
       "      <td>wallstreetbets</td>\n",
       "      <td>all in on meta</td>\n",
       "      <td>cut to the chase i am all in on meta here is w...</td>\n",
       "      <td>1635955106</td>\n",
       "    </tr>\n",
       "    <tr>\n",
       "      <th>3</th>\n",
       "      <td>wallstreetbets</td>\n",
       "      <td>camping world holdings moon discussion</td>\n",
       "      <td>beat on both the top and bottom line by a heal...</td>\n",
       "      <td>1635954989</td>\n",
       "    </tr>\n",
       "    <tr>\n",
       "      <th>4</th>\n",
       "      <td>wallstreetbets</td>\n",
       "      <td>camping world holdings moon discussion market cap</td>\n",
       "      <td>beat on both the top and bottom line by a heal...</td>\n",
       "      <td>1635954885</td>\n",
       "    </tr>\n",
       "  </tbody>\n",
       "</table>\n",
       "</div>"
      ],
      "text/plain": [
       "        subreddit                                              title  \\\n",
       "0  wallstreetbets                                               help   \n",
       "1  wallstreetbets                      hyzn preparing for a squeeze…   \n",
       "2  wallstreetbets                                     all in on meta   \n",
       "3  wallstreetbets             camping world holdings moon discussion   \n",
       "4  wallstreetbets  camping world holdings moon discussion market cap   \n",
       "\n",
       "                                            selftext  created_utc  \n",
       "0  i just sold my car for i want to know if can d...   1635955282  \n",
       "1  hyzn still yet to recover from the weak short ...   1635955250  \n",
       "2  cut to the chase i am all in on meta here is w...   1635955106  \n",
       "3  beat on both the top and bottom line by a heal...   1635954989  \n",
       "4  beat on both the top and bottom line by a heal...   1635954885  "
      ]
     },
     "execution_count": 187,
     "metadata": {},
     "output_type": "execute_result"
    }
   ],
   "source": [
    "df_vader.head()"
   ]
  },
  {
   "cell_type": "code",
   "execution_count": 188,
   "id": "70608055-298c-4409-8cbd-fef15cd21cb3",
   "metadata": {},
   "outputs": [],
   "source": [
    "title_corp = list(df_vader['title'])"
   ]
  },
  {
   "cell_type": "code",
   "execution_count": 189,
   "id": "b332ab5d-55cb-4b6c-8bd6-af020d8cfc9a",
   "metadata": {},
   "outputs": [],
   "source": [
    "text_corp = list(df_vader['selftext'])"
   ]
  },
  {
   "cell_type": "markdown",
   "id": "a2e30dbf-2dd7-4928-a5e7-a3918a688058",
   "metadata": {},
   "source": [
    "## Instantiate"
   ]
  },
  {
   "cell_type": "code",
   "execution_count": 190,
   "id": "c886581b-b5d5-4ab1-89c8-ea1f7f8a69e8",
   "metadata": {},
   "outputs": [],
   "source": [
    "sia = SentimentIntensityAnalyzer()"
   ]
  },
  {
   "cell_type": "code",
   "execution_count": 196,
   "id": "fcaa17d6-bb3f-4689-87bc-7653e32945f2",
   "metadata": {},
   "outputs": [
    {
     "data": {
      "text/plain": [
       "{'neg': 0.0, 'neu': 1.0, 'pos': 0.0, 'compound': 0.0}"
      ]
     },
     "execution_count": 196,
     "metadata": {},
     "output_type": "execute_result"
    }
   ],
   "source": [
    "sia.polarity_scores(title_corp[5])"
   ]
  },
  {
   "cell_type": "code",
   "execution_count": 195,
   "id": "dc3bfe59-6366-4698-a956-43ce075c45b3",
   "metadata": {},
   "outputs": [
    {
     "data": {
      "text/plain": [
       "{'neg': 0.031, 'neu': 0.954, 'pos': 0.015, 'compound': -0.2732}"
      ]
     },
     "execution_count": 195,
     "metadata": {},
     "output_type": "execute_result"
    }
   ],
   "source": [
    "sia.polarity_scores(text_corp[5])"
   ]
  },
  {
   "cell_type": "markdown",
   "id": "a562cbfa-acd5-435b-9ba6-017039518c2d",
   "metadata": {},
   "source": [
    "## Dataframe of Sentiment"
   ]
  },
  {
   "cell_type": "code",
   "execution_count": 213,
   "id": "2109cf06-8223-4ec5-8329-9c98e5ec4c75",
   "metadata": {},
   "outputs": [],
   "source": [
    "sentiment = []    \n",
    "for title in title_corp:\n",
    "    scores = sia.polarity_scores(title)\n",
    "    scores['title'] = title\n",
    "    sentiment.append(scores)\n",
    "\n",
    "title_sentiment = pd.DataFrame(sentiment)"
   ]
  },
  {
   "cell_type": "code",
   "execution_count": 214,
   "id": "c4c1093e-fb6c-4612-b61a-6fdffc10b2a1",
   "metadata": {},
   "outputs": [
    {
     "data": {
      "text/html": [
       "<div>\n",
       "<style scoped>\n",
       "    .dataframe tbody tr th:only-of-type {\n",
       "        vertical-align: middle;\n",
       "    }\n",
       "\n",
       "    .dataframe tbody tr th {\n",
       "        vertical-align: top;\n",
       "    }\n",
       "\n",
       "    .dataframe thead th {\n",
       "        text-align: right;\n",
       "    }\n",
       "</style>\n",
       "<table border=\"1\" class=\"dataframe\">\n",
       "  <thead>\n",
       "    <tr style=\"text-align: right;\">\n",
       "      <th></th>\n",
       "      <th>neg</th>\n",
       "      <th>neu</th>\n",
       "      <th>pos</th>\n",
       "      <th>compound</th>\n",
       "      <th>title</th>\n",
       "    </tr>\n",
       "  </thead>\n",
       "  <tbody>\n",
       "    <tr>\n",
       "      <th>0</th>\n",
       "      <td>0.0</td>\n",
       "      <td>0.0</td>\n",
       "      <td>1.0</td>\n",
       "      <td>0.4019</td>\n",
       "      <td>help</td>\n",
       "    </tr>\n",
       "    <tr>\n",
       "      <th>1</th>\n",
       "      <td>0.0</td>\n",
       "      <td>1.0</td>\n",
       "      <td>0.0</td>\n",
       "      <td>0.0000</td>\n",
       "      <td>hyzn preparing for a squeeze…</td>\n",
       "    </tr>\n",
       "    <tr>\n",
       "      <th>2</th>\n",
       "      <td>0.0</td>\n",
       "      <td>1.0</td>\n",
       "      <td>0.0</td>\n",
       "      <td>0.0000</td>\n",
       "      <td>all in on meta</td>\n",
       "    </tr>\n",
       "  </tbody>\n",
       "</table>\n",
       "</div>"
      ],
      "text/plain": [
       "   neg  neu  pos  compound                          title\n",
       "0  0.0  0.0  1.0    0.4019                           help\n",
       "1  0.0  1.0  0.0    0.0000  hyzn preparing for a squeeze…\n",
       "2  0.0  1.0  0.0    0.0000                 all in on meta"
      ]
     },
     "execution_count": 214,
     "metadata": {},
     "output_type": "execute_result"
    }
   ],
   "source": [
    "title_sentiment.head(3)"
   ]
  },
  {
   "cell_type": "code",
   "execution_count": 215,
   "id": "457027f3-5f5a-44a9-a880-f2f0e862fe20",
   "metadata": {},
   "outputs": [],
   "source": [
    "title_sentiment['subreddit'] = df1['subreddit']"
   ]
  },
  {
   "cell_type": "code",
   "execution_count": 230,
   "id": "86a6f579-c559-4e52-8e18-aabecf8936ab",
   "metadata": {},
   "outputs": [],
   "source": [
    "sentiment = []    \n",
    "for text in text_corp:\n",
    "    scores = sia.polarity_scores(text)\n",
    "    scores['selftext'] = text\n",
    "    sentiment.append(scores)\n",
    "\n",
    "text_sentiment = pd.DataFrame(sentiment)"
   ]
  },
  {
   "cell_type": "code",
   "execution_count": 231,
   "id": "9be5fe1f-a4ea-4177-8b14-eed834b50191",
   "metadata": {},
   "outputs": [],
   "source": [
    "text_sentiment['subreddit'] = df1['subreddit']"
   ]
  },
  {
   "cell_type": "code",
   "execution_count": 232,
   "id": "96d0047e-ef7a-490d-af63-64744a8ecb40",
   "metadata": {},
   "outputs": [
    {
     "data": {
      "text/html": [
       "<div>\n",
       "<style scoped>\n",
       "    .dataframe tbody tr th:only-of-type {\n",
       "        vertical-align: middle;\n",
       "    }\n",
       "\n",
       "    .dataframe tbody tr th {\n",
       "        vertical-align: top;\n",
       "    }\n",
       "\n",
       "    .dataframe thead th {\n",
       "        text-align: right;\n",
       "    }\n",
       "</style>\n",
       "<table border=\"1\" class=\"dataframe\">\n",
       "  <thead>\n",
       "    <tr style=\"text-align: right;\">\n",
       "      <th></th>\n",
       "      <th>neg</th>\n",
       "      <th>neu</th>\n",
       "      <th>pos</th>\n",
       "      <th>compound</th>\n",
       "      <th>selftext</th>\n",
       "      <th>subreddit</th>\n",
       "    </tr>\n",
       "  </thead>\n",
       "  <tbody>\n",
       "    <tr>\n",
       "      <th>49997</th>\n",
       "      <td>0.045</td>\n",
       "      <td>0.879</td>\n",
       "      <td>0.075</td>\n",
       "      <td>0.2960</td>\n",
       "      <td>i use chwab and apparently they use daily comp...</td>\n",
       "      <td>0</td>\n",
       "    </tr>\n",
       "    <tr>\n",
       "      <th>49998</th>\n",
       "      <td>0.027</td>\n",
       "      <td>0.927</td>\n",
       "      <td>0.046</td>\n",
       "      <td>0.3612</td>\n",
       "      <td>hello im importing portfolio data into yahoo f...</td>\n",
       "      <td>0</td>\n",
       "    </tr>\n",
       "    <tr>\n",
       "      <th>49999</th>\n",
       "      <td>0.122</td>\n",
       "      <td>0.824</td>\n",
       "      <td>0.054</td>\n",
       "      <td>-0.7717</td>\n",
       "      <td>i think about joseph kennedys famous hoeshiner...</td>\n",
       "      <td>0</td>\n",
       "    </tr>\n",
       "  </tbody>\n",
       "</table>\n",
       "</div>"
      ],
      "text/plain": [
       "         neg    neu    pos  compound  \\\n",
       "49997  0.045  0.879  0.075    0.2960   \n",
       "49998  0.027  0.927  0.046    0.3612   \n",
       "49999  0.122  0.824  0.054   -0.7717   \n",
       "\n",
       "                                                selftext  subreddit  \n",
       "49997  i use chwab and apparently they use daily comp...          0  \n",
       "49998  hello im importing portfolio data into yahoo f...          0  \n",
       "49999  i think about joseph kennedys famous hoeshiner...          0  "
      ]
     },
     "execution_count": 232,
     "metadata": {},
     "output_type": "execute_result"
    }
   ],
   "source": [
    "text_sentiment.tail(3)"
   ]
  },
  {
   "cell_type": "code",
   "execution_count": 233,
   "id": "ccd4a1f2-6cc1-4967-9f45-68a7bbdbe655",
   "metadata": {},
   "outputs": [],
   "source": [
    "merged_vader = pd.merge(title_sentiment, text_sentiment, how= 'inner', left_index=True, right_index=True)"
   ]
  },
  {
   "cell_type": "code",
   "execution_count": 234,
   "id": "b79ce473-9985-4af0-bf33-e079078f7999",
   "metadata": {},
   "outputs": [],
   "source": [
    "merged_vader['subreddit'] = df1['subreddit']"
   ]
  },
  {
   "cell_type": "markdown",
   "id": "174d99dd-ca33-465c-b0f9-dde83a0fa97b",
   "metadata": {},
   "source": [
    "## Polarities"
   ]
  },
  {
   "cell_type": "markdown",
   "id": "4ed8bbf3-4bd2-43d5-95ca-9f607562b640",
   "metadata": {},
   "source": [
    "We have three dataframes here to workwith: `title_sentiment` , `text_sentiment`, and `merged_vader`. I will only look at the first two. The third one may not be used, but it is created for convenience.  "
   ]
  },
  {
   "cell_type": "markdown",
   "id": "1d7dd056-35fc-4924-ae87-6a3e537275a0",
   "metadata": {},
   "source": [
    "### Title polarities"
   ]
  },
  {
   "cell_type": "code",
   "execution_count": 263,
   "id": "c9add0e0-213c-4b69-ae5c-e330dbd30f2e",
   "metadata": {},
   "outputs": [
    {
     "data": {
      "text/plain": [
       "Text(0, 0.5, 'Subreddit')"
      ]
     },
     "execution_count": 263,
     "metadata": {},
     "output_type": "execute_result"
    },
    {
     "data": {
      "image/png": "[encoded data removed]",
      "text/plain": [
       "<Figure size 864x576 with 1 Axes>"
      ]
     },
     "metadata": {
      "needs_background": "light"
     },
     "output_type": "display_data"
    }
   ],
   "source": [
    "\n",
    "title_sentiment.groupby('subreddit').mean()[['pos', 'neg', 'compound']].plot(kind='barh', figsize = (12,8))\n",
    "plt.title('Average Positive, Negative & Compound Scores', size = 20);\n",
    "plt.yticks([0, 1], ['r/stocks', 'r/WallStreetBets'], size=12);\n",
    "plt.xlabel('Score', size = 14)\n",
    "plt.ylabel('Subreddit', size = 14)"
   ]
  },
  {
   "cell_type": "code",
   "execution_count": 264,
   "id": "f8bb7706-2ca7-4a10-8638-f7f282fd847b",
   "metadata": {},
   "outputs": [
    {
     "data": {
      "text/html": [
       "<div>\n",
       "<style scoped>\n",
       "    .dataframe tbody tr th:only-of-type {\n",
       "        vertical-align: middle;\n",
       "    }\n",
       "\n",
       "    .dataframe tbody tr th {\n",
       "        vertical-align: top;\n",
       "    }\n",
       "\n",
       "    .dataframe thead th {\n",
       "        text-align: right;\n",
       "    }\n",
       "</style>\n",
       "<table border=\"1\" class=\"dataframe\">\n",
       "  <thead>\n",
       "    <tr style=\"text-align: right;\">\n",
       "      <th></th>\n",
       "      <th>pos</th>\n",
       "      <th>neg</th>\n",
       "      <th>compound</th>\n",
       "    </tr>\n",
       "    <tr>\n",
       "      <th>subreddit</th>\n",
       "      <th></th>\n",
       "      <th></th>\n",
       "      <th></th>\n",
       "    </tr>\n",
       "  </thead>\n",
       "  <tbody>\n",
       "    <tr>\n",
       "      <th>0</th>\n",
       "      <td>0.093086</td>\n",
       "      <td>0.042171</td>\n",
       "      <td>0.072223</td>\n",
       "    </tr>\n",
       "    <tr>\n",
       "      <th>1</th>\n",
       "      <td>0.096190</td>\n",
       "      <td>0.047800</td>\n",
       "      <td>0.058764</td>\n",
       "    </tr>\n",
       "  </tbody>\n",
       "</table>\n",
       "</div>"
      ],
      "text/plain": [
       "                pos       neg  compound\n",
       "subreddit                              \n",
       "0          0.093086  0.042171  0.072223\n",
       "1          0.096190  0.047800  0.058764"
      ]
     },
     "execution_count": 264,
     "metadata": {},
     "output_type": "execute_result"
    }
   ],
   "source": [
    "title_sentiment.groupby('subreddit').mean()[['pos', 'neg', 'compound']]\n"
   ]
  },
  {
   "cell_type": "markdown",
   "id": "470def57-8687-422a-a0bf-cb25ceb1d543",
   "metadata": {},
   "source": [
    "### Text Polarities"
   ]
  },
  {
   "cell_type": "code",
   "execution_count": 265,
   "id": "e517bca1-a76e-4f0a-a954-050051e516c8",
   "metadata": {},
   "outputs": [
    {
     "data": {
      "image/png": "[encoded data removed]",
      "text/plain": [
       "<Figure size 864x576 with 1 Axes>"
      ]
     },
     "metadata": {
      "needs_background": "light"
     },
     "output_type": "display_data"
    }
   ],
   "source": [
    "text_sentiment.groupby('subreddit').mean()[['pos', 'neg', 'compound']].plot(kind='barh', figsize = (12,8))\n",
    "\n",
    "plt.title('Average Positive, Negative & Compound Scores', size = 20);\n",
    "plt.yticks([0, 1], ['r/stocks', 'r/WallStreetBets'], size=12);\n",
    "plt.xlabel('Score', size = 14);\n",
    "plt.ylabel('Subreddit', size = 14);"
   ]
  },
  {
   "cell_type": "code",
   "execution_count": 239,
   "id": "a6f130d3-ffbb-4f81-a9d1-5dd6fb08d27b",
   "metadata": {},
   "outputs": [
    {
     "data": {
      "text/html": [
       "<div>\n",
       "<style scoped>\n",
       "    .dataframe tbody tr th:only-of-type {\n",
       "        vertical-align: middle;\n",
       "    }\n",
       "\n",
       "    .dataframe tbody tr th {\n",
       "        vertical-align: top;\n",
       "    }\n",
       "\n",
       "    .dataframe thead th {\n",
       "        text-align: right;\n",
       "    }\n",
       "</style>\n",
       "<table border=\"1\" class=\"dataframe\">\n",
       "  <thead>\n",
       "    <tr style=\"text-align: right;\">\n",
       "      <th></th>\n",
       "      <th>pos</th>\n",
       "      <th>neg</th>\n",
       "      <th>compound</th>\n",
       "    </tr>\n",
       "    <tr>\n",
       "      <th>subreddit</th>\n",
       "      <th></th>\n",
       "      <th></th>\n",
       "      <th></th>\n",
       "    </tr>\n",
       "  </thead>\n",
       "  <tbody>\n",
       "    <tr>\n",
       "      <th>0</th>\n",
       "      <td>0.117114</td>\n",
       "      <td>0.047402</td>\n",
       "      <td>0.483476</td>\n",
       "    </tr>\n",
       "    <tr>\n",
       "      <th>1</th>\n",
       "      <td>0.122059</td>\n",
       "      <td>0.055295</td>\n",
       "      <td>0.393712</td>\n",
       "    </tr>\n",
       "  </tbody>\n",
       "</table>\n",
       "</div>"
      ],
      "text/plain": [
       "                pos       neg  compound\n",
       "subreddit                              \n",
       "0          0.117114  0.047402  0.483476\n",
       "1          0.122059  0.055295  0.393712"
      ]
     },
     "execution_count": 239,
     "metadata": {},
     "output_type": "execute_result"
    }
   ],
   "source": [
    "text_sentiment.groupby('subreddit').mean()[['pos', 'neg', 'compound']]"
   ]
  },
  {
   "cell_type": "markdown",
   "id": "cb916adb-baf3-44d7-95b9-7c32342c7f08",
   "metadata": {},
   "source": [
    "---"
   ]
  },
  {
   "cell_type": "markdown",
   "id": "5efa9abf-b0b7-4d78-a1a9-94d7080de453",
   "metadata": {},
   "source": [
    "# TF-IDF frequencies\n",
    "I decided to use TF-IDF due to the volume of text and the similarities between the two subreddits. Here I will look at the word frequencies of uni-grams, bi-grams, tri-grams, and quad-grams. `max_features` set to 10% of the corpus data quantity; 5, 000\n"
   ]
  },
  {
   "cell_type": "code",
   "execution_count": 89,
   "id": "5b277a47-b0a2-4b93-97b2-543e9296372c",
   "metadata": {},
   "outputs": [
    {
     "data": {
      "text/html": [
       "<div>\n",
       "<style scoped>\n",
       "    .dataframe tbody tr th:only-of-type {\n",
       "        vertical-align: middle;\n",
       "    }\n",
       "\n",
       "    .dataframe tbody tr th {\n",
       "        vertical-align: top;\n",
       "    }\n",
       "\n",
       "    .dataframe thead th {\n",
       "        text-align: right;\n",
       "    }\n",
       "</style>\n",
       "<table border=\"1\" class=\"dataframe\">\n",
       "  <thead>\n",
       "    <tr style=\"text-align: right;\">\n",
       "      <th></th>\n",
       "      <th>subreddit</th>\n",
       "      <th>title</th>\n",
       "      <th>selftext</th>\n",
       "      <th>created_utc</th>\n",
       "    </tr>\n",
       "  </thead>\n",
       "  <tbody>\n",
       "    <tr>\n",
       "      <th>0</th>\n",
       "      <td>wallstreetbets</td>\n",
       "      <td>help</td>\n",
       "      <td>i just sold my car for  i wanna know if can do...</td>\n",
       "      <td>1635955282</td>\n",
       "    </tr>\n",
       "    <tr>\n",
       "      <th>1</th>\n",
       "      <td>wallstreetbets</td>\n",
       "      <td>hyzn preparing for a squeeze…</td>\n",
       "      <td>hyzn still yet to recover from the weak short ...</td>\n",
       "      <td>1635955250</td>\n",
       "    </tr>\n",
       "    <tr>\n",
       "      <th>2</th>\n",
       "      <td>wallstreetbets</td>\n",
       "      <td>all in on meta</td>\n",
       "      <td>cut to the chase i’m all in on meta here is ...</td>\n",
       "      <td>1635955106</td>\n",
       "    </tr>\n",
       "  </tbody>\n",
       "</table>\n",
       "</div>"
      ],
      "text/plain": [
       "        subreddit                          title  \\\n",
       "0  wallstreetbets                           help   \n",
       "1  wallstreetbets  hyzn preparing for a squeeze…   \n",
       "2  wallstreetbets                 all in on meta   \n",
       "\n",
       "                                            selftext  created_utc  \n",
       "0  i just sold my car for  i wanna know if can do...   1635955282  \n",
       "1  hyzn still yet to recover from the weak short ...   1635955250  \n",
       "2    cut to the chase i’m all in on meta here is ...   1635955106  "
      ]
     },
     "execution_count": 89,
     "metadata": {},
     "output_type": "execute_result"
    }
   ],
   "source": [
    "df_idf.head(3)"
   ]
  },
  {
   "cell_type": "code",
   "execution_count": null,
   "id": "3a2097b9-3244-4bae-98d7-ed1899cfbc41",
   "metadata": {},
   "outputs": [],
   "source": [
    "#split df_idf to two dfs by subreddit, WSB and stocks. "
   ]
  },
  {
   "cell_type": "code",
   "execution_count": 91,
   "id": "0218b9e4-2b1f-4c00-9091-2bb219b171e7",
   "metadata": {},
   "outputs": [],
   "source": [
    "df_wsb = df_idf[df_idf['subreddit'] == 'wallstreetbets'].copy()"
   ]
  },
  {
   "cell_type": "code",
   "execution_count": 92,
   "id": "b3f6be31-2165-439d-9563-c27398502e26",
   "metadata": {},
   "outputs": [],
   "source": [
    "df_stk = df_idf[df_idf['subreddit'] == 'stocks'].copy()"
   ]
  },
  {
   "cell_type": "code",
   "execution_count": 90,
   "id": "419a64bf-859a-4dcc-8ac4-624b18139e48",
   "metadata": {},
   "outputs": [],
   "source": [
    "#set each XT variable for selftext, but one for wsb and the other for stocks. "
   ]
  },
  {
   "cell_type": "code",
   "execution_count": null,
   "id": "9383af23-8d16-4d31-b0bf-413a75be2494",
   "metadata": {},
   "outputs": [],
   "source": [
    "#run the vectorizor again. "
   ]
  },
  {
   "cell_type": "code",
   "execution_count": 56,
   "id": "8f96c90e-7cc8-433d-803c-ad667df1215c",
   "metadata": {},
   "outputs": [
    {
     "data": {
      "text/html": [
       "<div>\n",
       "<style scoped>\n",
       "    .dataframe tbody tr th:only-of-type {\n",
       "        vertical-align: middle;\n",
       "    }\n",
       "\n",
       "    .dataframe tbody tr th {\n",
       "        vertical-align: top;\n",
       "    }\n",
       "\n",
       "    .dataframe thead th {\n",
       "        text-align: right;\n",
       "    }\n",
       "</style>\n",
       "<table border=\"1\" class=\"dataframe\">\n",
       "  <thead>\n",
       "    <tr style=\"text-align: right;\">\n",
       "      <th></th>\n",
       "      <th>aapl mft</th>\n",
       "      <th>able buy</th>\n",
       "      <th>able make</th>\n",
       "      <th>able pay</th>\n",
       "      <th>able sell</th>\n",
       "      <th>able use</th>\n",
       "      <th>accessible bar</th>\n",
       "      <th>according bloomberg</th>\n",
       "      <th>according data</th>\n",
       "      <th>according factet</th>\n",
       "      <th>...</th>\n",
       "      <th>youre looking</th>\n",
       "      <th>youre probably</th>\n",
       "      <th>youtube channel</th>\n",
       "      <th>youtube video</th>\n",
       "      <th>youtube videos</th>\n",
       "      <th>yoy growth</th>\n",
       "      <th>yoy increase</th>\n",
       "      <th>yoy revenue</th>\n",
       "      <th>ytd fridays</th>\n",
       "      <th>zero debt</th>\n",
       "    </tr>\n",
       "  </thead>\n",
       "  <tbody>\n",
       "    <tr>\n",
       "      <th>0</th>\n",
       "      <td>0.0</td>\n",
       "      <td>0.0</td>\n",
       "      <td>0.0</td>\n",
       "      <td>0.0</td>\n",
       "      <td>0.0</td>\n",
       "      <td>0.0</td>\n",
       "      <td>0.0</td>\n",
       "      <td>0.0</td>\n",
       "      <td>0.0</td>\n",
       "      <td>0.0</td>\n",
       "      <td>...</td>\n",
       "      <td>0.0</td>\n",
       "      <td>0.0</td>\n",
       "      <td>0.0</td>\n",
       "      <td>0.0</td>\n",
       "      <td>0.0</td>\n",
       "      <td>0.0</td>\n",
       "      <td>0.0</td>\n",
       "      <td>0.0</td>\n",
       "      <td>0.0</td>\n",
       "      <td>0.0</td>\n",
       "    </tr>\n",
       "    <tr>\n",
       "      <th>1</th>\n",
       "      <td>0.0</td>\n",
       "      <td>0.0</td>\n",
       "      <td>0.0</td>\n",
       "      <td>0.0</td>\n",
       "      <td>0.0</td>\n",
       "      <td>0.0</td>\n",
       "      <td>0.0</td>\n",
       "      <td>0.0</td>\n",
       "      <td>0.0</td>\n",
       "      <td>0.0</td>\n",
       "      <td>...</td>\n",
       "      <td>0.0</td>\n",
       "      <td>0.0</td>\n",
       "      <td>0.0</td>\n",
       "      <td>0.0</td>\n",
       "      <td>0.0</td>\n",
       "      <td>0.0</td>\n",
       "      <td>0.0</td>\n",
       "      <td>0.0</td>\n",
       "      <td>0.0</td>\n",
       "      <td>0.0</td>\n",
       "    </tr>\n",
       "    <tr>\n",
       "      <th>2</th>\n",
       "      <td>0.0</td>\n",
       "      <td>0.0</td>\n",
       "      <td>0.0</td>\n",
       "      <td>0.0</td>\n",
       "      <td>0.0</td>\n",
       "      <td>0.0</td>\n",
       "      <td>0.0</td>\n",
       "      <td>0.0</td>\n",
       "      <td>0.0</td>\n",
       "      <td>0.0</td>\n",
       "      <td>...</td>\n",
       "      <td>0.0</td>\n",
       "      <td>0.0</td>\n",
       "      <td>0.0</td>\n",
       "      <td>0.0</td>\n",
       "      <td>0.0</td>\n",
       "      <td>0.0</td>\n",
       "      <td>0.0</td>\n",
       "      <td>0.0</td>\n",
       "      <td>0.0</td>\n",
       "      <td>0.0</td>\n",
       "    </tr>\n",
       "    <tr>\n",
       "      <th>3</th>\n",
       "      <td>0.0</td>\n",
       "      <td>0.0</td>\n",
       "      <td>0.0</td>\n",
       "      <td>0.0</td>\n",
       "      <td>0.0</td>\n",
       "      <td>0.0</td>\n",
       "      <td>0.0</td>\n",
       "      <td>0.0</td>\n",
       "      <td>0.0</td>\n",
       "      <td>0.0</td>\n",
       "      <td>...</td>\n",
       "      <td>0.0</td>\n",
       "      <td>0.0</td>\n",
       "      <td>0.0</td>\n",
       "      <td>0.0</td>\n",
       "      <td>0.0</td>\n",
       "      <td>0.0</td>\n",
       "      <td>0.0</td>\n",
       "      <td>0.0</td>\n",
       "      <td>0.0</td>\n",
       "      <td>0.0</td>\n",
       "    </tr>\n",
       "    <tr>\n",
       "      <th>4</th>\n",
       "      <td>0.0</td>\n",
       "      <td>0.0</td>\n",
       "      <td>0.0</td>\n",
       "      <td>0.0</td>\n",
       "      <td>0.0</td>\n",
       "      <td>0.0</td>\n",
       "      <td>0.0</td>\n",
       "      <td>0.0</td>\n",
       "      <td>0.0</td>\n",
       "      <td>0.0</td>\n",
       "      <td>...</td>\n",
       "      <td>0.0</td>\n",
       "      <td>0.0</td>\n",
       "      <td>0.0</td>\n",
       "      <td>0.0</td>\n",
       "      <td>0.0</td>\n",
       "      <td>0.0</td>\n",
       "      <td>0.0</td>\n",
       "      <td>0.0</td>\n",
       "      <td>0.0</td>\n",
       "      <td>0.0</td>\n",
       "    </tr>\n",
       "  </tbody>\n",
       "</table>\n",
       "<p>5 rows × 5000 columns</p>\n",
       "</div>"
      ],
      "text/plain": [
       "   aapl mft  able buy  able make  able pay  able sell  able use  \\\n",
       "0       0.0       0.0        0.0       0.0        0.0       0.0   \n",
       "1       0.0       0.0        0.0       0.0        0.0       0.0   \n",
       "2       0.0       0.0        0.0       0.0        0.0       0.0   \n",
       "3       0.0       0.0        0.0       0.0        0.0       0.0   \n",
       "4       0.0       0.0        0.0       0.0        0.0       0.0   \n",
       "\n",
       "   accessible bar  according bloomberg  according data  according factet  ...  \\\n",
       "0             0.0                  0.0             0.0               0.0  ...   \n",
       "1             0.0                  0.0             0.0               0.0  ...   \n",
       "2             0.0                  0.0             0.0               0.0  ...   \n",
       "3             0.0                  0.0             0.0               0.0  ...   \n",
       "4             0.0                  0.0             0.0               0.0  ...   \n",
       "\n",
       "   youre looking  youre probably  youtube channel  youtube video  \\\n",
       "0            0.0             0.0              0.0            0.0   \n",
       "1            0.0             0.0              0.0            0.0   \n",
       "2            0.0             0.0              0.0            0.0   \n",
       "3            0.0             0.0              0.0            0.0   \n",
       "4            0.0             0.0              0.0            0.0   \n",
       "\n",
       "   youtube videos  yoy growth  yoy increase  yoy revenue  ytd fridays  \\\n",
       "0             0.0         0.0           0.0          0.0          0.0   \n",
       "1             0.0         0.0           0.0          0.0          0.0   \n",
       "2             0.0         0.0           0.0          0.0          0.0   \n",
       "3             0.0         0.0           0.0          0.0          0.0   \n",
       "4             0.0         0.0           0.0          0.0          0.0   \n",
       "\n",
       "   zero debt  \n",
       "0        0.0  \n",
       "1        0.0  \n",
       "2        0.0  \n",
       "3        0.0  \n",
       "4        0.0  \n",
       "\n",
       "[5 rows x 5000 columns]"
      ]
     },
     "execution_count": 56,
     "metadata": {},
     "output_type": "execute_result"
    }
   ],
   "source": [
    "XT_bi.head()"
   ]
  },
  {
   "cell_type": "code",
   "execution_count": 115,
   "id": "9f72148d-5f54-4e71-88bf-9f30ff7605dd",
   "metadata": {},
   "outputs": [],
   "source": [
    "tvec_uni = TfidfVectorizer(ngram_range=(1,1), stop_words = 'english', max_features = 50000, max_df = .90)\n",
    "tvec_bi = TfidfVectorizer( ngram_range=(2,2), stop_words = 'english',max_features = 50000, max_df = .90)\n",
    "tvec_tri = TfidfVectorizer( ngram_range=(3,3), stop_words = 'english',max_features = 50000, max_df = .90)\n",
    "tvec_quad = TfidfVectorizer( ngram_range=(4,4), stop_words = 'english',max_features = 50000, max_df = .90)"
   ]
  },
  {
   "cell_type": "markdown",
   "id": "0a55434c-a33d-4e52-b13d-8f5a7ec30836",
   "metadata": {},
   "source": [
    "## Title series\n",
    "Each corpus is run through the vecotrizer for charter when completed. "
   ]
  },
  {
   "cell_type": "code",
   "execution_count": 93,
   "id": "61b51c7a-adc9-4f02-b33b-98a92b4044d6",
   "metadata": {},
   "outputs": [],
   "source": [
    "XT_w = df_wsb['selftext']"
   ]
  },
  {
   "cell_type": "code",
   "execution_count": 94,
   "id": "7faa4bbd-f385-45ca-ac05-9dc473babeab",
   "metadata": {},
   "outputs": [],
   "source": [
    "XT_stk = df_stk['selftext']"
   ]
  },
  {
   "cell_type": "code",
   "execution_count": 120,
   "id": "6f438eef-58d8-4b63-ac71-1794c89a8871",
   "metadata": {},
   "outputs": [],
   "source": [
    "#XT_uni_wsb = pd.DataFrame(tvec_uni.fit_transform(XT_w).todense(), columns=tvec_uni.get_feature_names_out())\n",
    "#XT_bi_wsb = pd.DataFrame(tvec_bi.fit_transform(XT_w).todense(), columns=tvec_bi.get_feature_names_out())\n",
    "XT_tri_wsb = pd.DataFrame(tvec_tri.fit_transform(XT_w).todense(), columns=tvec_tri.get_feature_names_out())\n",
    "#XT_quad_wsb = pd.DataFrame(tvec_quad.fit_transform(XT_w).todense(), columns=tvec_quad.get_feature_names_out())"
   ]
  },
  {
   "cell_type": "code",
   "execution_count": 121,
   "id": "05b862bf-047b-4e92-8a92-fb070fcb339a",
   "metadata": {},
   "outputs": [],
   "source": [
    "#XT_uni_stk = pd.DataFrame(tvec_uni.fit_transform(XT_stk).todense(), columns=tvec_uni.get_feature_names_out())\n",
    "#XT_bi_stk = pd.DataFrame(tvec_bi.fit_transform(XT_stk).todense(), columns=tvec_bi.get_feature_names_out())\n",
    "XT_tri_stk = pd.DataFrame(tvec_tri.fit_transform(XT_stk).todense(), columns=tvec_tri.get_feature_names_out())\n",
    "#XT_quad_stk = pd.DataFrame(tvec_quad.fit_transform(XT_stk).todense(), columns=tvec_quad.get_feature_names_out())"
   ]
  },
  {
   "cell_type": "code",
   "execution_count": null,
   "id": "d0e66dc6-d888-48ab-83da-041010bfbfd9",
   "metadata": {},
   "outputs": [],
   "source": []
  },
  {
   "cell_type": "code",
   "execution_count": 118,
   "id": "7cd8074a-dc31-4074-9577-f5a639842f5a",
   "metadata": {},
   "outputs": [
    {
     "data": {
      "image/png": "[encoded data removed]",
      "text/plain": [
       "<Figure size 864x576 with 1 Axes>"
      ]
     },
     "metadata": {
      "needs_background": "light"
     },
     "output_type": "display_data"
    }
   ],
   "source": [
    "XT_uni_stk.sum().sort_values(ascending=False).head(10).plot(kind='barh', figsize = (12,8));"
   ]
  },
  {
   "cell_type": "code",
   "execution_count": 119,
   "id": "d4ba9374-6eb9-4b51-9a26-94460338e5bd",
   "metadata": {},
   "outputs": [
    {
     "data": {
      "image/png": "[encoded data removed]",
      "text/plain": [
       "<Figure size 864x576 with 1 Axes>"
      ]
     },
     "metadata": {
      "needs_background": "light"
     },
     "output_type": "display_data"
    }
   ],
   "source": [
    "XT_uni_wsb.sum().sort_values(ascending=False).head(10).plot(kind='barh', figsize = (12,8));"
   ]
  },
  {
   "cell_type": "code",
   "execution_count": 122,
   "id": "fd6b8cc5-60ee-4d02-8acd-8f6285c828b7",
   "metadata": {},
   "outputs": [
    {
     "data": {
      "text/plain": [
       "<AxesSubplot:>"
      ]
     },
     "execution_count": 122,
     "metadata": {},
     "output_type": "execute_result"
    },
    {
     "data": {
      "image/png": "[encoded data removed]",
      "text/plain": [
       "<Figure size 864x576 with 1 Axes>"
      ]
     },
     "metadata": {
      "needs_background": "light"
     },
     "output_type": "display_data"
    }
   ],
   "source": [
    "XT_bi_stk.sum().sort_values(ascending=False).head(10).plot(kind='barh', figsize = (12,8))"
   ]
  },
  {
   "cell_type": "code",
   "execution_count": 123,
   "id": "67c209d7-d28c-4933-88df-42b6b1381cc9",
   "metadata": {},
   "outputs": [
    {
     "data": {
      "text/plain": [
       "<AxesSubplot:>"
      ]
     },
     "execution_count": 123,
     "metadata": {},
     "output_type": "execute_result"
    },
    {
     "data": {
      "image/png": "[encoded data removed]",
      "text/plain": [
       "<Figure size 864x576 with 1 Axes>"
      ]
     },
     "metadata": {
      "needs_background": "light"
     },
     "output_type": "display_data"
    }
   ],
   "source": [
    "XT_bi_wsb.sum().sort_values(ascending=False).head(10).plot(kind='barh', figsize = (12,8))"
   ]
  },
  {
   "cell_type": "code",
   "execution_count": 111,
   "id": "16169ebe-87a4-4dd3-b3de-34f1e161841a",
   "metadata": {},
   "outputs": [
    {
     "data": {
      "text/plain": [
       "<AxesSubplot:>"
      ]
     },
     "execution_count": 111,
     "metadata": {},
     "output_type": "execute_result"
    },
    {
     "data": {
      "image/png": "[encoded data removed]",
      "text/plain": [
       "<Figure size 864x576 with 1 Axes>"
      ]
     },
     "metadata": {
      "needs_background": "light"
     },
     "output_type": "display_data"
    }
   ],
   "source": [
    "XT_tri_stk.sum().sort_values(ascending=False).head(10).plot(kind='barh', figsize = (12,8))"
   ]
  },
  {
   "cell_type": "code",
   "execution_count": 112,
   "id": "12701e4e-314f-447b-882f-7d3d791df47f",
   "metadata": {},
   "outputs": [
    {
     "data": {
      "text/plain": [
       "<AxesSubplot:>"
      ]
     },
     "execution_count": 112,
     "metadata": {},
     "output_type": "execute_result"
    },
    {
     "data": {
      "image/png": "[encoded data removed]",
      "text/plain": [
       "<Figure size 864x576 with 1 Axes>"
      ]
     },
     "metadata": {
      "needs_background": "light"
     },
     "output_type": "display_data"
    }
   ],
   "source": [
    "XT_tri_wsb.sum().sort_values(ascending=False).head(10).plot(kind='barh', figsize = (12,8))"
   ]
  },
  {
   "cell_type": "code",
   "execution_count": 113,
   "id": "de691eb7-842b-424a-8cfc-2251d32cece7",
   "metadata": {},
   "outputs": [
    {
     "data": {
      "text/plain": [
       "<AxesSubplot:>"
      ]
     },
     "execution_count": 113,
     "metadata": {},
     "output_type": "execute_result"
    },
    {
     "data": {
      "image/png": "[encoded data removed]",
      "text/plain": [
       "<Figure size 864x576 with 1 Axes>"
      ]
     },
     "metadata": {
      "needs_background": "light"
     },
     "output_type": "display_data"
    }
   ],
   "source": [
    "XT_quad_stk.sum().sort_values(ascending=False).head(10).plot(kind='barh', figsize = (12,8))"
   ]
  },
  {
   "cell_type": "code",
   "execution_count": 114,
   "id": "883ac16a-b417-47c5-a145-bb02cc32949d",
   "metadata": {},
   "outputs": [
    {
     "data": {
      "text/plain": [
       "<AxesSubplot:>"
      ]
     },
     "execution_count": 114,
     "metadata": {},
     "output_type": "execute_result"
    },
    {
     "data": {
      "image/png": "[encoded data removed]",
      "text/plain": [
       "<Figure size 864x576 with 1 Axes>"
      ]
     },
     "metadata": {
      "needs_background": "light"
     },
     "output_type": "display_data"
    }
   ],
   "source": [
    "XT_quad_wsb.sum().sort_values(ascending=False).head(10).plot(kind='barh', figsize = (12,8))"
   ]
  },
  {
   "cell_type": "code",
   "execution_count": 100,
   "id": "85a9b470-1f0d-47c7-95fd-9dfac485ce35",
   "metadata": {},
   "outputs": [],
   "source": [
    "#sns.barplot(data = title_top_10, hue = 'subreddit')"
   ]
  },
  {
   "cell_type": "code",
   "execution_count": 90,
   "id": "fd935dd1-f260-45fd-8e78-73fe3f8ca81f",
   "metadata": {},
   "outputs": [],
   "source": [
    "title_top_10 = XT_uni.sum().sort_values(ascending=False).head(10)"
   ]
  },
  {
   "cell_type": "markdown",
   "id": "753ca632-5789-473d-ba05-5ab627815d4b",
   "metadata": {},
   "source": [
    "## Text series\n",
    "Each corpus is run through the same way the title series was done. This takes a lot longer as the document size can vary from very small to very large (800+ words)"
   ]
  },
  {
   "cell_type": "code",
   "execution_count": 92,
   "id": "20c405f6-5dbb-40b3-9120-99210e45bac0",
   "metadata": {},
   "outputs": [
    {
     "data": {
      "text/plain": [
       "(50000, 22753)"
      ]
     },
     "execution_count": 92,
     "metadata": {},
     "output_type": "execute_result"
    }
   ],
   "source": [
    "XT_uni.shape"
   ]
  },
  {
   "cell_type": "code",
   "execution_count": 93,
   "id": "318a987f-6585-4b6f-b1c9-9ba3064e0654",
   "metadata": {
    "collapsed": true,
    "jupyter": {
     "outputs_hidden": true
    },
    "tags": []
   },
   "outputs": [
    {
     "data": {
      "text/html": [
       "<div>\n",
       "<style scoped>\n",
       "    .dataframe tbody tr th:only-of-type {\n",
       "        vertical-align: middle;\n",
       "    }\n",
       "\n",
       "    .dataframe tbody tr th {\n",
       "        vertical-align: top;\n",
       "    }\n",
       "\n",
       "    .dataframe thead th {\n",
       "        text-align: right;\n",
       "    }\n",
       "</style>\n",
       "<table border=\"1\" class=\"dataframe\">\n",
       "  <thead>\n",
       "    <tr style=\"text-align: right;\">\n",
       "      <th>subreddit</th>\n",
       "      <th>1</th>\n",
       "      <th>0</th>\n",
       "    </tr>\n",
       "  </thead>\n",
       "  <tbody>\n",
       "    <tr>\n",
       "      <th>aa</th>\n",
       "      <td>4.983165</td>\n",
       "      <td>8.738967</td>\n",
       "    </tr>\n",
       "    <tr>\n",
       "      <th>aaa</th>\n",
       "      <td>1.042527</td>\n",
       "      <td>0.467903</td>\n",
       "    </tr>\n",
       "    <tr>\n",
       "      <th>aaaaaaaaaahhhhhhhhhh</th>\n",
       "      <td>1.000000</td>\n",
       "      <td>0.000000</td>\n",
       "    </tr>\n",
       "    <tr>\n",
       "      <th>aaamn</th>\n",
       "      <td>0.000000</td>\n",
       "      <td>0.804700</td>\n",
       "    </tr>\n",
       "    <tr>\n",
       "      <th>aaarated</th>\n",
       "      <td>0.000000</td>\n",
       "      <td>0.433744</td>\n",
       "    </tr>\n",
       "    <tr>\n",
       "      <th>...</th>\n",
       "      <td>...</td>\n",
       "      <td>...</td>\n",
       "    </tr>\n",
       "    <tr>\n",
       "      <th>ᴾᴼⱽ</th>\n",
       "      <td>0.335077</td>\n",
       "      <td>0.000000</td>\n",
       "    </tr>\n",
       "    <tr>\n",
       "      <th>ᵒˡᵈ</th>\n",
       "      <td>0.335077</td>\n",
       "      <td>0.000000</td>\n",
       "    </tr>\n",
       "    <tr>\n",
       "      <th>ᶠᵘᶜᵏ</th>\n",
       "      <td>0.335077</td>\n",
       "      <td>0.000000</td>\n",
       "    </tr>\n",
       "    <tr>\n",
       "      <th>今日重点新闻看过来</th>\n",
       "      <td>0.654874</td>\n",
       "      <td>0.000000</td>\n",
       "    </tr>\n",
       "    <tr>\n",
       "      <th>虎牙直播</th>\n",
       "      <td>1.636481</td>\n",
       "      <td>0.000000</td>\n",
       "    </tr>\n",
       "  </tbody>\n",
       "</table>\n",
       "<p>22752 rows × 2 columns</p>\n",
       "</div>"
      ],
      "text/plain": [
       "subreddit                    1         0\n",
       "aa                    4.983165  8.738967\n",
       "aaa                   1.042527  0.467903\n",
       "aaaaaaaaaahhhhhhhhhh  1.000000  0.000000\n",
       "aaamn                 0.000000  0.804700\n",
       "aaarated              0.000000  0.433744\n",
       "...                        ...       ...\n",
       "ᴾᴼⱽ                   0.335077  0.000000\n",
       "ᵒˡᵈ                   0.335077  0.000000\n",
       "ᶠᵘᶜᵏ                  0.335077  0.000000\n",
       "今日重点新闻看过来             0.654874  0.000000\n",
       "虎牙直播                  1.636481  0.000000\n",
       "\n",
       "[22752 rows x 2 columns]"
      ]
     },
     "execution_count": 93,
     "metadata": {},
     "output_type": "execute_result"
    }
   ],
   "source": [
    "XT_uni.groupby('subreddit').sum().sort_values(by='subreddit', ascending = False).head(10).T"
   ]
  },
  {
   "cell_type": "code",
   "execution_count": null,
   "id": "3859720b-0277-4438-8916-5bd497984155",
   "metadata": {},
   "outputs": [],
   "source": []
  },
  {
   "cell_type": "code",
   "execution_count": null,
   "id": "e713d96a-a85e-401a-9726-2caf1ebf5e06",
   "metadata": {},
   "outputs": [],
   "source": []
  },
  {
   "cell_type": "markdown",
   "id": "dd714ebf-eab3-41e8-874a-d9bd08e81f1a",
   "metadata": {
    "tags": []
   },
   "source": [
    "# Final save of prepared data.\n",
    "----\n"
   ]
  },
  {
   "cell_type": "code",
   "execution_count": 267,
   "id": "90043ec4-f99f-4add-97c3-19ef963b10bd",
   "metadata": {},
   "outputs": [],
   "source": [
    "df1.to_csv('../data/reddit25k_processed.csv', index = False)\n",
    "title_sentiment.to_csv('../data/titlesent.csv', index = False)\n",
    "text_sentiment.to_csv('../data/textsent.csv', index = False)"
   ]
  },
  {
   "cell_type": "code",
   "execution_count": 1,
   "id": "b6c61bac-b615-4dac-a4e2-68ee30178931",
   "metadata": {},
   "outputs": [
    {
     "name": "stdout",
     "output_type": "stream",
     "text": [
      "send\n"
     ]
    }
   ],
   "source": [
    "print('send')"
   ]
  },
  {
   "cell_type": "code",
   "execution_count": null,
   "id": "74e2fe31-a4ae-4d54-adee-21277d563088",
   "metadata": {},
   "outputs": [],
   "source": []
  }
 ],
 "metadata": {
  "kernelspec": {
   "display_name": "Python 3 (ipykernel)",
   "language": "python",
   "name": "python3"
  },
  "language_info": {
   "codemirror_mode": {
    "name": "ipython",
    "version": 3
   },
   "file_extension": ".py",
   "mimetype": "text/x-python",
   "name": "python",
   "nbconvert_exporter": "python",
   "pygments_lexer": "ipython3",
   "version": "3.8.8"
  }
 },
 "nbformat": 4,
 "nbformat_minor": 5
}
